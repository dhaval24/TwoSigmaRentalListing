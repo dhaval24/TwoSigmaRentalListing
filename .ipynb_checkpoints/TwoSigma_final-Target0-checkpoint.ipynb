{
 "cells": [
  {
   "cell_type": "code",
   "execution_count": 1,
   "metadata": {
    "collapsed": true
   },
   "outputs": [],
   "source": [
    "from datetime import datetime\n",
    "from datetime import timedelta\n",
    "import pandas as pd\n",
    "import numpy as np\n",
    "from nltk.corpus import stopwords\n",
    "from nltk.stem.snowball import SnowballStemmer\n",
    "from nltk.tokenize import word_tokenize\n",
    "import re\n",
    "import string\n",
    "from sklearn.model_selection import train_test_split\n",
    "from sklearn.feature_extraction.text import CountVectorizer\n",
    "from sklearn.feature_extraction.text import TfidfTransformer\n",
    "from sklearn.naive_bayes import MultinomialNB\n",
    "from sklearn.model_selection import GridSearchCV\n",
    "from sklearn.pipeline import Pipeline\n",
    "from sklearn.linear_model import SGDClassifier\n",
    "from sklearn import metrics\n",
    "from sklearn.svm import LinearSVC\n",
    "from sklearn.svm import SVC\n",
    "from sklearn.ensemble import RandomForestClassifier\n",
    "from sklearn.ensemble import VotingClassifier\n",
    "import matplotlib as mlp\n",
    "import matplotlib.pyplot as plt\n",
    "import seaborn as sns\n",
    "from sklearn.model_selection import cross_val_score\n",
    "from sklearn.neural_network import MLPClassifier\n",
    "from geopy.geocoders import Nominatim\n",
    "import xgboost as xgb\n",
    "from sklearn import preprocessing\n",
    "from time import sleep\n",
    "from sklearn import linear_model\n",
    "from scipy import sparse\n",
    "from sklearn.metrics import accuracy_score\n",
    "from sklearn.metrics import log_loss\n",
    "from sklearn.cluster import KMeans\n",
    "from xgboost import plot_importance\n",
    "import operator\n",
    "import plotly.plotly as py\n",
    "from plotly.graph_objs import *\n",
    "plotly.tools.set_credentials_file(username='dhavaldoshi24', api_key='zbjx4BV0gByd3GuXVlFA')"
   ]
  },
  {
   "cell_type": "code",
   "execution_count": null,
   "metadata": {
    "collapsed": true
   },
   "outputs": [],
   "source": [
    "df_train_complete = pd.read_json('data\\\\train.json')"
   ]
  },
  {
   "cell_type": "code",
   "execution_count": 8,
   "metadata": {
    "collapsed": false
   },
   "outputs": [],
   "source": [
    "columns = list(df_train_complete)"
   ]
  },
  {
   "cell_type": "code",
   "execution_count": 9,
   "metadata": {
    "collapsed": false
   },
   "outputs": [
    {
     "name": "stdout",
     "output_type": "stream",
     "text": [
      "['bathrooms', 'bedrooms', 'building_id', 'created', 'description', 'display_address', 'features', 'interest_level', 'latitude', 'listing_id', 'longitude', 'manager_id', 'photos', 'price', 'street_address']\n"
     ]
    }
   ],
   "source": [
    "print(columns)"
   ]
  },
  {
   "cell_type": "code",
   "execution_count": 10,
   "metadata": {
    "collapsed": false
   },
   "outputs": [
    {
     "data": {
      "text/html": [
       "<div>\n",
       "<table border=\"1\" class=\"dataframe\">\n",
       "  <thead>\n",
       "    <tr style=\"text-align: right;\">\n",
       "      <th></th>\n",
       "      <th>bathrooms</th>\n",
       "      <th>bedrooms</th>\n",
       "      <th>building_id</th>\n",
       "      <th>created</th>\n",
       "      <th>description</th>\n",
       "      <th>display_address</th>\n",
       "      <th>features</th>\n",
       "      <th>interest_level</th>\n",
       "      <th>latitude</th>\n",
       "      <th>listing_id</th>\n",
       "      <th>longitude</th>\n",
       "      <th>manager_id</th>\n",
       "      <th>photos</th>\n",
       "      <th>price</th>\n",
       "      <th>street_address</th>\n",
       "    </tr>\n",
       "  </thead>\n",
       "  <tbody>\n",
       "    <tr>\n",
       "      <th>10</th>\n",
       "      <td>1.5</td>\n",
       "      <td>3</td>\n",
       "      <td>53a5b119ba8f7b61d4e010512e0dfc85</td>\n",
       "      <td>2016-06-24 07:54:24</td>\n",
       "      <td>A Brand New 3 Bedroom 1.5 bath ApartmentEnjoy ...</td>\n",
       "      <td>Metropolitan Avenue</td>\n",
       "      <td>[]</td>\n",
       "      <td>medium</td>\n",
       "      <td>40.7145</td>\n",
       "      <td>7211212</td>\n",
       "      <td>-73.9425</td>\n",
       "      <td>5ba989232d0489da1b5f2c45f6688adc</td>\n",
       "      <td>[https://photos.renthop.com/2/7211212_1ed4542e...</td>\n",
       "      <td>3000</td>\n",
       "      <td>792 Metropolitan Avenue</td>\n",
       "    </tr>\n",
       "    <tr>\n",
       "      <th>10000</th>\n",
       "      <td>1.0</td>\n",
       "      <td>2</td>\n",
       "      <td>c5c8a357cba207596b04d1afd1e4f130</td>\n",
       "      <td>2016-06-12 12:19:27</td>\n",
       "      <td></td>\n",
       "      <td>Columbus Avenue</td>\n",
       "      <td>[Doorman, Elevator, Fitness Center, Cats Allow...</td>\n",
       "      <td>low</td>\n",
       "      <td>40.7947</td>\n",
       "      <td>7150865</td>\n",
       "      <td>-73.9667</td>\n",
       "      <td>7533621a882f71e25173b27e3139d83d</td>\n",
       "      <td>[https://photos.renthop.com/2/7150865_be3306c5...</td>\n",
       "      <td>5465</td>\n",
       "      <td>808 Columbus Avenue</td>\n",
       "    </tr>\n",
       "    <tr>\n",
       "      <th>100004</th>\n",
       "      <td>1.0</td>\n",
       "      <td>1</td>\n",
       "      <td>c3ba40552e2120b0acfc3cb5730bb2aa</td>\n",
       "      <td>2016-04-17 03:26:41</td>\n",
       "      <td>Top Top West Village location, beautiful Pre-w...</td>\n",
       "      <td>W 13 Street</td>\n",
       "      <td>[Laundry In Building, Dishwasher, Hardwood Flo...</td>\n",
       "      <td>high</td>\n",
       "      <td>40.7388</td>\n",
       "      <td>6887163</td>\n",
       "      <td>-74.0018</td>\n",
       "      <td>d9039c43983f6e564b1482b273bd7b01</td>\n",
       "      <td>[https://photos.renthop.com/2/6887163_de85c427...</td>\n",
       "      <td>2850</td>\n",
       "      <td>241 W 13 Street</td>\n",
       "    </tr>\n",
       "    <tr>\n",
       "      <th>100007</th>\n",
       "      <td>1.0</td>\n",
       "      <td>1</td>\n",
       "      <td>28d9ad350afeaab8027513a3e52ac8d5</td>\n",
       "      <td>2016-04-18 02:22:02</td>\n",
       "      <td>Building Amenities - Garage - Garden - fitness...</td>\n",
       "      <td>East 49th Street</td>\n",
       "      <td>[Hardwood Floors, No Fee]</td>\n",
       "      <td>low</td>\n",
       "      <td>40.7539</td>\n",
       "      <td>6888711</td>\n",
       "      <td>-73.9677</td>\n",
       "      <td>1067e078446a7897d2da493d2f741316</td>\n",
       "      <td>[https://photos.renthop.com/2/6888711_6e660cee...</td>\n",
       "      <td>3275</td>\n",
       "      <td>333 East 49th Street</td>\n",
       "    </tr>\n",
       "    <tr>\n",
       "      <th>100013</th>\n",
       "      <td>1.0</td>\n",
       "      <td>4</td>\n",
       "      <td>0</td>\n",
       "      <td>2016-04-28 01:32:41</td>\n",
       "      <td>Beautifully renovated 3 bedroom flex 4 bedroom...</td>\n",
       "      <td>West 143rd Street</td>\n",
       "      <td>[Pre-War]</td>\n",
       "      <td>low</td>\n",
       "      <td>40.8241</td>\n",
       "      <td>6934781</td>\n",
       "      <td>-73.9493</td>\n",
       "      <td>98e13ad4b495b9613cef886d79a6291f</td>\n",
       "      <td>[https://photos.renthop.com/2/6934781_1fa4b41a...</td>\n",
       "      <td>3350</td>\n",
       "      <td>500 West 143rd Street</td>\n",
       "    </tr>\n",
       "  </tbody>\n",
       "</table>\n",
       "</div>"
      ],
      "text/plain": [
       "        bathrooms  bedrooms                       building_id  \\\n",
       "10            1.5         3  53a5b119ba8f7b61d4e010512e0dfc85   \n",
       "10000         1.0         2  c5c8a357cba207596b04d1afd1e4f130   \n",
       "100004        1.0         1  c3ba40552e2120b0acfc3cb5730bb2aa   \n",
       "100007        1.0         1  28d9ad350afeaab8027513a3e52ac8d5   \n",
       "100013        1.0         4                                 0   \n",
       "\n",
       "                    created  \\\n",
       "10      2016-06-24 07:54:24   \n",
       "10000   2016-06-12 12:19:27   \n",
       "100004  2016-04-17 03:26:41   \n",
       "100007  2016-04-18 02:22:02   \n",
       "100013  2016-04-28 01:32:41   \n",
       "\n",
       "                                              description  \\\n",
       "10      A Brand New 3 Bedroom 1.5 bath ApartmentEnjoy ...   \n",
       "10000                                                       \n",
       "100004  Top Top West Village location, beautiful Pre-w...   \n",
       "100007  Building Amenities - Garage - Garden - fitness...   \n",
       "100013  Beautifully renovated 3 bedroom flex 4 bedroom...   \n",
       "\n",
       "            display_address  \\\n",
       "10      Metropolitan Avenue   \n",
       "10000       Columbus Avenue   \n",
       "100004          W 13 Street   \n",
       "100007     East 49th Street   \n",
       "100013    West 143rd Street   \n",
       "\n",
       "                                                 features interest_level  \\\n",
       "10                                                     []         medium   \n",
       "10000   [Doorman, Elevator, Fitness Center, Cats Allow...            low   \n",
       "100004  [Laundry In Building, Dishwasher, Hardwood Flo...           high   \n",
       "100007                          [Hardwood Floors, No Fee]            low   \n",
       "100013                                          [Pre-War]            low   \n",
       "\n",
       "        latitude  listing_id  longitude                        manager_id  \\\n",
       "10       40.7145     7211212   -73.9425  5ba989232d0489da1b5f2c45f6688adc   \n",
       "10000    40.7947     7150865   -73.9667  7533621a882f71e25173b27e3139d83d   \n",
       "100004   40.7388     6887163   -74.0018  d9039c43983f6e564b1482b273bd7b01   \n",
       "100007   40.7539     6888711   -73.9677  1067e078446a7897d2da493d2f741316   \n",
       "100013   40.8241     6934781   -73.9493  98e13ad4b495b9613cef886d79a6291f   \n",
       "\n",
       "                                                   photos  price  \\\n",
       "10      [https://photos.renthop.com/2/7211212_1ed4542e...   3000   \n",
       "10000   [https://photos.renthop.com/2/7150865_be3306c5...   5465   \n",
       "100004  [https://photos.renthop.com/2/6887163_de85c427...   2850   \n",
       "100007  [https://photos.renthop.com/2/6888711_6e660cee...   3275   \n",
       "100013  [https://photos.renthop.com/2/6934781_1fa4b41a...   3350   \n",
       "\n",
       "                 street_address  \n",
       "10      792 Metropolitan Avenue  \n",
       "10000       808 Columbus Avenue  \n",
       "100004          241 W 13 Street  \n",
       "100007     333 East 49th Street  \n",
       "100013    500 West 143rd Street  "
      ]
     },
     "execution_count": 10,
     "metadata": {},
     "output_type": "execute_result"
    }
   ],
   "source": [
    "df_train_complete.head()"
   ]
  },
  {
   "cell_type": "markdown",
   "metadata": {},
   "source": [
    "# Statistics about the dataset"
   ]
  },
  {
   "cell_type": "code",
   "execution_count": 11,
   "metadata": {
    "collapsed": true
   },
   "outputs": [],
   "source": [
    "def strip(text):\n",
    "    text = str(text)\n",
    "    try:\n",
    "        return text.strip()\n",
    "    except AttributeError:\n",
    "        return text"
   ]
  },
  {
   "cell_type": "code",
   "execution_count": 12,
   "metadata": {
    "collapsed": false
   },
   "outputs": [],
   "source": [
    "df_train_complete['description'] = df_train_complete['description'].map(str.strip)\n",
    "df_train_complete['building_id'] = df_train_complete['building_id'].map(str.strip)\n",
    "df_train_complete['created'] = df_train_complete['created'].map(str.strip)\n",
    "df_train_complete['display_address'] = df_train_complete['display_address'].map(str.strip)\n",
    "df_train_complete['interest_level'] = df_train_complete['interest_level'].map(str.strip)\n",
    "df_train_complete['street_address'] = df_train_complete['street_address'].map(str.strip)"
   ]
  },
  {
   "cell_type": "code",
   "execution_count": 13,
   "metadata": {
    "collapsed": false
   },
   "outputs": [],
   "source": [
    "df_train_complete.replace('', np.nan, inplace=True)"
   ]
  },
  {
   "cell_type": "code",
   "execution_count": 14,
   "metadata": {
    "collapsed": false
   },
   "outputs": [
    {
     "name": "stdout",
     "output_type": "stream",
     "text": [
      "null bathrooms0\n",
      "null bedrooms0\n",
      "null_creationdate0\n",
      "null description3333\n",
      "null display address137\n",
      "null features0\n",
      "null interest level0\n",
      "null latitude0\n",
      "null longitude0\n",
      "null listingid0\n",
      "null street address10\n",
      "null prices0\n",
      "null_photos0\n"
     ]
    }
   ],
   "source": [
    "null_bathrooms = df_train_complete['bathrooms'].isnull().sum()\n",
    "null_bedrooms = df_train_complete['bedrooms'].isnull().sum()\n",
    "null_creationdate = df_train_complete['created'].isnull().sum()\n",
    "null_description = df_train_complete['description'].isnull().sum()\n",
    "# null_description = df_train_complete_size - df_train_complete['description'].count()\n",
    "null_disaddress = df_train_complete['display_address'].isnull().sum()\n",
    "null_features = df_train_complete['features'].isnull().sum()\n",
    "null_interestlevel = df_train_complete['interest_level'].isnull().sum()\n",
    "null_latitude = df_train_complete['latitude'].isnull().sum()\n",
    "null_longitude = df_train_complete['longitude'].isnull().sum()\n",
    "null_listingid = df_train_complete['listing_id'].isnull().sum()\n",
    "null_streetadd = df_train_complete['street_address'].isnull().sum()\n",
    "null_price = df_train_complete['price'].isnull().sum()\n",
    "null_photos = df_train_complete['photos'].isnull().sum()\n",
    "\n",
    "print('null bathrooms' + str(null_bathrooms))\n",
    "print('null bedrooms' + str(null_bedrooms))\n",
    "print('null_creationdate' + str(null_creationdate))\n",
    "print('null description' + str(null_description))\n",
    "print('null display address' + str(null_disaddress))\n",
    "print('null features' + str(null_features))\n",
    "print('null interest level' + str(null_interestlevel))\n",
    "print('null latitude' + str(null_latitude))\n",
    "print('null longitude' + str(null_longitude))\n",
    "print('null listingid' + str(null_listingid))\n",
    "print('null street address' + str(null_streetadd))\n",
    "print('null prices' + str(null_price))\n",
    "print('null_photos' + str(null_photos))"
   ]
  },
  {
   "cell_type": "code",
   "execution_count": 15,
   "metadata": {
    "collapsed": false
   },
   "outputs": [
    {
     "data": {
      "text/plain": [
       "49352"
      ]
     },
     "execution_count": 15,
     "metadata": {},
     "output_type": "execute_result"
    }
   ],
   "source": [
    "len(df_train_complete)"
   ]
  },
  {
   "cell_type": "code",
   "execution_count": 16,
   "metadata": {
    "collapsed": false
   },
   "outputs": [
    {
     "data": {
      "text/plain": [
       "45883"
      ]
     },
     "execution_count": 16,
     "metadata": {},
     "output_type": "execute_result"
    }
   ],
   "source": [
    "df_train_complete = df_train_complete.dropna()\n",
    "len(df_train_complete)"
   ]
  },
  {
   "cell_type": "code",
   "execution_count": 17,
   "metadata": {
    "collapsed": false
   },
   "outputs": [
    {
     "data": {
      "text/html": [
       "<div>\n",
       "<table border=\"1\" class=\"dataframe\">\n",
       "  <thead>\n",
       "    <tr style=\"text-align: right;\">\n",
       "      <th></th>\n",
       "      <th>bathrooms</th>\n",
       "      <th>bedrooms</th>\n",
       "      <th>building_id</th>\n",
       "      <th>created</th>\n",
       "      <th>description</th>\n",
       "      <th>display_address</th>\n",
       "      <th>features</th>\n",
       "      <th>interest_level</th>\n",
       "      <th>latitude</th>\n",
       "      <th>listing_id</th>\n",
       "      <th>longitude</th>\n",
       "      <th>manager_id</th>\n",
       "      <th>photos</th>\n",
       "      <th>price</th>\n",
       "      <th>street_address</th>\n",
       "    </tr>\n",
       "  </thead>\n",
       "  <tbody>\n",
       "    <tr>\n",
       "      <th>10</th>\n",
       "      <td>1.5</td>\n",
       "      <td>3</td>\n",
       "      <td>53a5b119ba8f7b61d4e010512e0dfc85</td>\n",
       "      <td>2016-06-24 07:54:24</td>\n",
       "      <td>A Brand New 3 Bedroom 1.5 bath ApartmentEnjoy ...</td>\n",
       "      <td>Metropolitan Avenue</td>\n",
       "      <td>[]</td>\n",
       "      <td>medium</td>\n",
       "      <td>40.7145</td>\n",
       "      <td>7211212</td>\n",
       "      <td>-73.9425</td>\n",
       "      <td>5ba989232d0489da1b5f2c45f6688adc</td>\n",
       "      <td>[https://photos.renthop.com/2/7211212_1ed4542e...</td>\n",
       "      <td>3000</td>\n",
       "      <td>792 Metropolitan Avenue</td>\n",
       "    </tr>\n",
       "    <tr>\n",
       "      <th>100004</th>\n",
       "      <td>1.0</td>\n",
       "      <td>1</td>\n",
       "      <td>c3ba40552e2120b0acfc3cb5730bb2aa</td>\n",
       "      <td>2016-04-17 03:26:41</td>\n",
       "      <td>Top Top West Village location, beautiful Pre-w...</td>\n",
       "      <td>W 13 Street</td>\n",
       "      <td>[Laundry In Building, Dishwasher, Hardwood Flo...</td>\n",
       "      <td>high</td>\n",
       "      <td>40.7388</td>\n",
       "      <td>6887163</td>\n",
       "      <td>-74.0018</td>\n",
       "      <td>d9039c43983f6e564b1482b273bd7b01</td>\n",
       "      <td>[https://photos.renthop.com/2/6887163_de85c427...</td>\n",
       "      <td>2850</td>\n",
       "      <td>241 W 13 Street</td>\n",
       "    </tr>\n",
       "    <tr>\n",
       "      <th>100007</th>\n",
       "      <td>1.0</td>\n",
       "      <td>1</td>\n",
       "      <td>28d9ad350afeaab8027513a3e52ac8d5</td>\n",
       "      <td>2016-04-18 02:22:02</td>\n",
       "      <td>Building Amenities - Garage - Garden - fitness...</td>\n",
       "      <td>East 49th Street</td>\n",
       "      <td>[Hardwood Floors, No Fee]</td>\n",
       "      <td>low</td>\n",
       "      <td>40.7539</td>\n",
       "      <td>6888711</td>\n",
       "      <td>-73.9677</td>\n",
       "      <td>1067e078446a7897d2da493d2f741316</td>\n",
       "      <td>[https://photos.renthop.com/2/6888711_6e660cee...</td>\n",
       "      <td>3275</td>\n",
       "      <td>333 East 49th Street</td>\n",
       "    </tr>\n",
       "    <tr>\n",
       "      <th>100013</th>\n",
       "      <td>1.0</td>\n",
       "      <td>4</td>\n",
       "      <td>0</td>\n",
       "      <td>2016-04-28 01:32:41</td>\n",
       "      <td>Beautifully renovated 3 bedroom flex 4 bedroom...</td>\n",
       "      <td>West 143rd Street</td>\n",
       "      <td>[Pre-War]</td>\n",
       "      <td>low</td>\n",
       "      <td>40.8241</td>\n",
       "      <td>6934781</td>\n",
       "      <td>-73.9493</td>\n",
       "      <td>98e13ad4b495b9613cef886d79a6291f</td>\n",
       "      <td>[https://photos.renthop.com/2/6934781_1fa4b41a...</td>\n",
       "      <td>3350</td>\n",
       "      <td>500 West 143rd Street</td>\n",
       "    </tr>\n",
       "    <tr>\n",
       "      <th>100016</th>\n",
       "      <td>1.0</td>\n",
       "      <td>2</td>\n",
       "      <td>3ba49a93260ca5df92fde024cb4ca61f</td>\n",
       "      <td>2016-04-27 03:19:56</td>\n",
       "      <td>Stunning unit with a great location and lots o...</td>\n",
       "      <td>West 107th Street</td>\n",
       "      <td>[prewar, elevator, Dogs Allowed, Cats Allowed,...</td>\n",
       "      <td>low</td>\n",
       "      <td>40.8012</td>\n",
       "      <td>6930771</td>\n",
       "      <td>-73.9660</td>\n",
       "      <td>01287194f20de51872e81f660def4784</td>\n",
       "      <td>[https://photos.renthop.com/2/6930771_7e3622b6...</td>\n",
       "      <td>3600</td>\n",
       "      <td>210 West 107th Street</td>\n",
       "    </tr>\n",
       "  </tbody>\n",
       "</table>\n",
       "</div>"
      ],
      "text/plain": [
       "        bathrooms  bedrooms                       building_id  \\\n",
       "10            1.5         3  53a5b119ba8f7b61d4e010512e0dfc85   \n",
       "100004        1.0         1  c3ba40552e2120b0acfc3cb5730bb2aa   \n",
       "100007        1.0         1  28d9ad350afeaab8027513a3e52ac8d5   \n",
       "100013        1.0         4                                 0   \n",
       "100016        1.0         2  3ba49a93260ca5df92fde024cb4ca61f   \n",
       "\n",
       "                    created  \\\n",
       "10      2016-06-24 07:54:24   \n",
       "100004  2016-04-17 03:26:41   \n",
       "100007  2016-04-18 02:22:02   \n",
       "100013  2016-04-28 01:32:41   \n",
       "100016  2016-04-27 03:19:56   \n",
       "\n",
       "                                              description  \\\n",
       "10      A Brand New 3 Bedroom 1.5 bath ApartmentEnjoy ...   \n",
       "100004  Top Top West Village location, beautiful Pre-w...   \n",
       "100007  Building Amenities - Garage - Garden - fitness...   \n",
       "100013  Beautifully renovated 3 bedroom flex 4 bedroom...   \n",
       "100016  Stunning unit with a great location and lots o...   \n",
       "\n",
       "            display_address  \\\n",
       "10      Metropolitan Avenue   \n",
       "100004          W 13 Street   \n",
       "100007     East 49th Street   \n",
       "100013    West 143rd Street   \n",
       "100016    West 107th Street   \n",
       "\n",
       "                                                 features interest_level  \\\n",
       "10                                                     []         medium   \n",
       "100004  [Laundry In Building, Dishwasher, Hardwood Flo...           high   \n",
       "100007                          [Hardwood Floors, No Fee]            low   \n",
       "100013                                          [Pre-War]            low   \n",
       "100016  [prewar, elevator, Dogs Allowed, Cats Allowed,...            low   \n",
       "\n",
       "        latitude  listing_id  longitude                        manager_id  \\\n",
       "10       40.7145     7211212   -73.9425  5ba989232d0489da1b5f2c45f6688adc   \n",
       "100004   40.7388     6887163   -74.0018  d9039c43983f6e564b1482b273bd7b01   \n",
       "100007   40.7539     6888711   -73.9677  1067e078446a7897d2da493d2f741316   \n",
       "100013   40.8241     6934781   -73.9493  98e13ad4b495b9613cef886d79a6291f   \n",
       "100016   40.8012     6930771   -73.9660  01287194f20de51872e81f660def4784   \n",
       "\n",
       "                                                   photos  price  \\\n",
       "10      [https://photos.renthop.com/2/7211212_1ed4542e...   3000   \n",
       "100004  [https://photos.renthop.com/2/6887163_de85c427...   2850   \n",
       "100007  [https://photos.renthop.com/2/6888711_6e660cee...   3275   \n",
       "100013  [https://photos.renthop.com/2/6934781_1fa4b41a...   3350   \n",
       "100016  [https://photos.renthop.com/2/6930771_7e3622b6...   3600   \n",
       "\n",
       "                 street_address  \n",
       "10      792 Metropolitan Avenue  \n",
       "100004          241 W 13 Street  \n",
       "100007     333 East 49th Street  \n",
       "100013    500 West 143rd Street  \n",
       "100016    210 West 107th Street  "
      ]
     },
     "execution_count": 17,
     "metadata": {},
     "output_type": "execute_result"
    }
   ],
   "source": [
    "df_train_complete.head()"
   ]
  },
  {
   "cell_type": "markdown",
   "metadata": {},
   "source": [
    "# Feature Engineering"
   ]
  },
  {
   "cell_type": "code",
   "execution_count": 18,
   "metadata": {
    "collapsed": false
   },
   "outputs": [],
   "source": [
    "def convert_interstlv_int(txt):\n",
    "    txt = str.lower(txt)\n",
    "    if txt == 'low':\n",
    "        return 2\n",
    "    elif txt == 'medium':\n",
    "        return 1\n",
    "    else :\n",
    "        return 0"
   ]
  },
  {
   "cell_type": "code",
   "execution_count": 19,
   "metadata": {
    "collapsed": false
   },
   "outputs": [],
   "source": [
    "df_train_complete['interest_level'] = df_train_complete['interest_level'].map(convert_interstlv_int)"
   ]
  },
  {
   "cell_type": "code",
   "execution_count": 20,
   "metadata": {
    "collapsed": false
   },
   "outputs": [],
   "source": [
    "def get_no_of_features(x):\n",
    "    return len(x['features'])"
   ]
  },
  {
   "cell_type": "code",
   "execution_count": 21,
   "metadata": {
    "collapsed": false
   },
   "outputs": [],
   "source": [
    "df_train_complete['total_features'] = df_train_complete.apply(get_no_of_features, axis=1)"
   ]
  },
  {
   "cell_type": "code",
   "execution_count": 22,
   "metadata": {
    "collapsed": false
   },
   "outputs": [],
   "source": [
    "def get_hours_since_creation(x):\n",
    "    time_now = datetime.now()\n",
    "    FMT = '%Y-%m-%d %H:%M:%S'\n",
    "    tdelta = time_now - datetime.strptime(x['created'], FMT)\n",
    "    m, s = divmod(tdelta.total_seconds(), 60)\n",
    "    h, m = divmod(m, 60)\n",
    "    return h"
   ]
  },
  {
   "cell_type": "code",
   "execution_count": 23,
   "metadata": {
    "collapsed": false
   },
   "outputs": [],
   "source": [
    "df_train_complete['hours_since_creation'] = df_train_complete.apply(get_hours_since_creation, axis=1)"
   ]
  },
  {
   "cell_type": "code",
   "execution_count": 24,
   "metadata": {
    "collapsed": false
   },
   "outputs": [
    {
     "data": {
      "text/plain": [
       "10        7145.0\n",
       "100004    8781.0\n",
       "100007    8758.0\n",
       "100013    8519.0\n",
       "100016    8541.0\n",
       "Name: hours_since_creation, dtype: float64"
      ]
     },
     "execution_count": 24,
     "metadata": {},
     "output_type": "execute_result"
    }
   ],
   "source": [
    "df_train_complete['hours_since_creation'].head()"
   ]
  },
  {
   "cell_type": "code",
   "execution_count": 25,
   "metadata": {
    "collapsed": true
   },
   "outputs": [],
   "source": [
    "df_train_complete['created'] = pd.to_datetime(df_train_complete['created'])"
   ]
  },
  {
   "cell_type": "code",
   "execution_count": 26,
   "metadata": {
    "collapsed": true
   },
   "outputs": [],
   "source": [
    "df_train_complete['created_year'] = df_train_complete['created'].dt.year"
   ]
  },
  {
   "cell_type": "code",
   "execution_count": 27,
   "metadata": {
    "collapsed": true
   },
   "outputs": [],
   "source": [
    "df_train_complete['created_month'] = df_train_complete['created'].dt.month"
   ]
  },
  {
   "cell_type": "code",
   "execution_count": 28,
   "metadata": {
    "collapsed": true
   },
   "outputs": [],
   "source": [
    "df_train_complete['created_day'] = df_train_complete['created'].dt.day"
   ]
  },
  {
   "cell_type": "code",
   "execution_count": 29,
   "metadata": {
    "collapsed": true
   },
   "outputs": [],
   "source": [
    "df_train_complete['created_hour'] = df_train_complete['created'].dt.hour"
   ]
  },
  {
   "cell_type": "code",
   "execution_count": 30,
   "metadata": {
    "collapsed": false
   },
   "outputs": [],
   "source": [
    "bid_count_list = df_train_complete.building_id.value_counts()"
   ]
  },
  {
   "cell_type": "code",
   "execution_count": 31,
   "metadata": {
    "collapsed": false
   },
   "outputs": [],
   "source": [
    "def get_listing_bid(x):\n",
    "    return bid_count_list[x['building_id']]"
   ]
  },
  {
   "cell_type": "code",
   "execution_count": 32,
   "metadata": {
    "collapsed": false
   },
   "outputs": [],
   "source": [
    "df_train_complete['total_listings'] = df_train_complete.apply(get_listing_bid, axis=1)"
   ]
  },
  {
   "cell_type": "code",
   "execution_count": 33,
   "metadata": {
    "collapsed": false
   },
   "outputs": [
    {
     "data": {
      "text/plain": [
       "10           3\n",
       "100004      58\n",
       "100007      92\n",
       "100013    7667\n",
       "100016      15\n",
       "Name: total_listings, dtype: int64"
      ]
     },
     "execution_count": 33,
     "metadata": {},
     "output_type": "execute_result"
    }
   ],
   "source": [
    "df_train_complete['total_listings'].head()"
   ]
  },
  {
   "cell_type": "code",
   "execution_count": 34,
   "metadata": {
    "collapsed": true
   },
   "outputs": [],
   "source": [
    "def get_total_photos(x):\n",
    "    return len(x['photos'])"
   ]
  },
  {
   "cell_type": "code",
   "execution_count": 35,
   "metadata": {
    "collapsed": true
   },
   "outputs": [],
   "source": [
    "df_train_complete['total_photos'] = df_train_complete.apply(get_total_photos, axis=1)"
   ]
  },
  {
   "cell_type": "code",
   "execution_count": 36,
   "metadata": {
    "collapsed": false
   },
   "outputs": [
    {
     "data": {
      "text/plain": [
       "10         5\n",
       "100004     8\n",
       "100007     3\n",
       "100013     3\n",
       "100016    10\n",
       "Name: total_photos, dtype: int64"
      ]
     },
     "execution_count": 36,
     "metadata": {},
     "output_type": "execute_result"
    }
   ],
   "source": [
    "df_train_complete['total_photos'].head()"
   ]
  },
  {
   "cell_type": "code",
   "execution_count": 37,
   "metadata": {
    "collapsed": true
   },
   "outputs": [],
   "source": [
    "managerid_count_list = df_train_complete.manager_id.value_counts()"
   ]
  },
  {
   "cell_type": "code",
   "execution_count": 38,
   "metadata": {
    "collapsed": false
   },
   "outputs": [],
   "source": [
    "def get_listing_count_bymanagerid(x):\n",
    "    return managerid_count_list[x['manager_id']]"
   ]
  },
  {
   "cell_type": "code",
   "execution_count": 39,
   "metadata": {
    "collapsed": true
   },
   "outputs": [],
   "source": [
    "df_train_complete['listing_by_manager'] = df_train_complete.apply(get_listing_count_bymanagerid, axis=1)"
   ]
  },
  {
   "cell_type": "code",
   "execution_count": 40,
   "metadata": {
    "collapsed": false
   },
   "outputs": [
    {
     "data": {
      "text/plain": [
       "10         90\n",
       "100004    134\n",
       "100007    191\n",
       "100013     15\n",
       "100016      9\n",
       "Name: listing_by_manager, dtype: int64"
      ]
     },
     "execution_count": 40,
     "metadata": {},
     "output_type": "execute_result"
    }
   ],
   "source": [
    "df_train_complete['listing_by_manager'].head()"
   ]
  },
  {
   "cell_type": "code",
   "execution_count": 41,
   "metadata": {
    "collapsed": true
   },
   "outputs": [],
   "source": [
    "def edit_distance(x):\n",
    "    s1 = str(x['street_address']).strip().lower()\n",
    "    s2 = str(x['display_address']).strip().lower()\n",
    "    m=len(s1)+1\n",
    "    n=len(s2)+1\n",
    "\n",
    "    tbl = {}\n",
    "    for i in range(m): tbl[i,0]=i\n",
    "    for j in range(n): tbl[0,j]=j\n",
    "    for i in range(1, m):\n",
    "        for j in range(1, n):\n",
    "            cost = 0 if s1[i-1] == s2[j-1] else 1\n",
    "            tbl[i,j] = min(tbl[i, j-1]+1, tbl[i-1, j]+1, tbl[i-1, j-1]+cost)\n",
    "\n",
    "    return tbl[i,j]"
   ]
  },
  {
   "cell_type": "code",
   "execution_count": 42,
   "metadata": {
    "collapsed": false
   },
   "outputs": [],
   "source": [
    "df_train_complete['address_similarity'] = df_train_complete.apply(edit_distance, axis=1)"
   ]
  },
  {
   "cell_type": "code",
   "execution_count": 43,
   "metadata": {
    "collapsed": false
   },
   "outputs": [
    {
     "data": {
      "text/plain": [
       "10        4\n",
       "100004    4\n",
       "100007    4\n",
       "100013    4\n",
       "100016    4\n",
       "Name: address_similarity, dtype: int64"
      ]
     },
     "execution_count": 43,
     "metadata": {},
     "output_type": "execute_result"
    }
   ],
   "source": [
    "df_train_complete['address_similarity'].head()"
   ]
  },
  {
   "cell_type": "code",
   "execution_count": 44,
   "metadata": {
    "collapsed": true
   },
   "outputs": [],
   "source": [
    "df_train_complete['latitude'] = df_train_complete['latitude'].apply(lambda x : round(x,3))\n",
    "df_train_complete['longitude'] = df_train_complete['longitude'].apply(lambda x : round(x,3))"
   ]
  },
  {
   "cell_type": "code",
   "execution_count": 45,
   "metadata": {
    "collapsed": false
   },
   "outputs": [
    {
     "data": {
      "text/plain": [
       "Index(['bathrooms', 'bedrooms', 'building_id', 'created', 'description',\n",
       "       'display_address', 'features', 'interest_level', 'latitude',\n",
       "       'listing_id', 'longitude', 'manager_id', 'photos', 'price',\n",
       "       'street_address', 'total_features', 'hours_since_creation',\n",
       "       'created_year', 'created_month', 'created_day', 'created_hour',\n",
       "       'total_listings', 'total_photos', 'listing_by_manager',\n",
       "       'address_similarity'],\n",
       "      dtype='object')"
      ]
     },
     "execution_count": 45,
     "metadata": {},
     "output_type": "execute_result"
    }
   ],
   "source": [
    "df_train_complete.columns"
   ]
  },
  {
   "cell_type": "code",
   "execution_count": 240,
   "metadata": {
    "collapsed": false
   },
   "outputs": [
    {
     "data": {
      "text/plain": [
       "2    25218\n",
       "1     8962\n",
       "0     2918\n",
       "Name: interest_level, dtype: int64"
      ]
     },
     "execution_count": 240,
     "metadata": {},
     "output_type": "execute_result"
    }
   ],
   "source": [
    "distribution = df_train_complete['interest_level'].value_counts()\n",
    "distribution"
   ]
  },
  {
   "cell_type": "code",
   "execution_count": 47,
   "metadata": {
    "collapsed": true
   },
   "outputs": [],
   "source": [
    "df_train_complete[\"price\"] = df_train_complete[\"price\"].clip(upper=13000)\n",
    "df_train_complete['log_price'] = np.log(df_train_complete['price'])"
   ]
  },
  {
   "cell_type": "code",
   "execution_count": 48,
   "metadata": {
    "collapsed": false
   },
   "outputs": [],
   "source": [
    "df_train_complete['price_per_bedroom'] = df_train_complete['price']/df_train_complete['bedrooms']"
   ]
  },
  {
   "cell_type": "code",
   "execution_count": 49,
   "metadata": {
    "collapsed": false
   },
   "outputs": [],
   "source": [
    "df_train_complete['bed_bath_total'] = df_train_complete['bedrooms'] + df_train_complete['bathrooms']"
   ]
  },
  {
   "cell_type": "code",
   "execution_count": 50,
   "metadata": {
    "collapsed": false
   },
   "outputs": [],
   "source": [
    "df_train_complete['price_per_room'] = df_train_complete['price']/df_train_complete['bed_bath_total']"
   ]
  },
  {
   "cell_type": "code",
   "execution_count": 51,
   "metadata": {
    "collapsed": false
   },
   "outputs": [],
   "source": [
    "df_train_complete['words_in_description'] = df_train_complete['description'].apply(lambda x: len(x.split(' ')))"
   ]
  },
  {
   "cell_type": "code",
   "execution_count": 52,
   "metadata": {
    "collapsed": false
   },
   "outputs": [],
   "source": [
    "df_train_complete['pos'] = df_train_complete.longitude.astype(str) + '_' + df_train_complete.latitude.astype(str)"
   ]
  },
  {
   "cell_type": "code",
   "execution_count": 53,
   "metadata": {
    "collapsed": false
   },
   "outputs": [],
   "source": [
    "pos_vals = df_train_complete['pos'].value_counts()"
   ]
  },
  {
   "cell_type": "code",
   "execution_count": 54,
   "metadata": {
    "collapsed": true
   },
   "outputs": [],
   "source": [
    "pos_dict = pos_vals.to_dict()\n",
    "df_train_complete['house_density'] = df_train_complete['pos'].apply(lambda x: pos_dict.get(x, pos_vals.min()))"
   ]
  },
  {
   "cell_type": "code",
   "execution_count": 55,
   "metadata": {
    "collapsed": false
   },
   "outputs": [],
   "source": [
    "df_train_complete_copy = df_train_complete.copy()\n",
    "df_train_complete_copy['features'] = df_train_complete_copy[\"features\"].apply(lambda x: \" \".join([\"_\".join(i.split(\" \")) for i in x]))"
   ]
  },
  {
   "cell_type": "code",
   "execution_count": 56,
   "metadata": {
    "collapsed": true
   },
   "outputs": [],
   "source": [
    "df_train_complete['features'] = df_train_complete[\"features\"].apply(lambda x: \" \".join([\"_\".join(i.split(\" \")) for i in x]))"
   ]
  },
  {
   "cell_type": "code",
   "execution_count": 57,
   "metadata": {
    "collapsed": false
   },
   "outputs": [
    {
     "data": {
      "text/plain": [
       "10                                                         \n",
       "100004    Laundry_In_Building Dishwasher Hardwood_Floors...\n",
       "100007                               Hardwood_Floors No_Fee\n",
       "100013                                              Pre-War\n",
       "100016    prewar elevator Dogs_Allowed Cats_Allowed LOWR...\n",
       "Name: features, dtype: object"
      ]
     },
     "execution_count": 57,
     "metadata": {},
     "output_type": "execute_result"
    }
   ],
   "source": [
    "df_train_complete['features'].head()"
   ]
  },
  {
   "cell_type": "code",
   "execution_count": 58,
   "metadata": {
    "collapsed": true
   },
   "outputs": [],
   "source": [
    "lbl = preprocessing.LabelEncoder()\n",
    "lbl.fit(list(df_train_complete['manager_id'].values))\n",
    "df_train_complete['manager_id'] = lbl.transform(list(df_train_complete['manager_id'].values))"
   ]
  },
  {
   "cell_type": "code",
   "execution_count": 59,
   "metadata": {
    "collapsed": false
   },
   "outputs": [
    {
     "name": "stdout",
     "output_type": "stream",
     "text": [
      "            high_frac  low_frac  medium_frac  count\n",
      "manager_id                                         \n",
      "3385         0.000000  0.333333     0.666667      3\n",
      "3386         0.625000  0.125000     0.250000      8\n",
      "3387         0.000000  0.000000     1.000000      1\n",
      "3388         0.000000  0.000000     1.000000      1\n",
      "3389         0.142857  0.142857     0.714286      7\n",
      "3390         0.000000  0.000000     1.000000      1\n",
      "3391         0.000000  0.000000     1.000000      7\n",
      "3392         0.000000  0.000000     1.000000      2\n",
      "3393         0.142857  0.142857     0.714286      7\n",
      "3394         0.034783  0.295652     0.669565    115\n"
     ]
    }
   ],
   "source": [
    "temp = pd.concat([df_train_complete.manager_id,pd.get_dummies(df_train_complete['interest_level'])], axis = 1).groupby('manager_id').mean()\n",
    "temp.columns = ['high_frac','low_frac', 'medium_frac']\n",
    "temp['count'] = df_train_complete.groupby('manager_id').count().iloc[:,1]\n",
    "print(temp.tail(10))"
   ]
  },
  {
   "cell_type": "code",
   "execution_count": 60,
   "metadata": {
    "collapsed": false,
    "scrolled": true
   },
   "outputs": [
    {
     "name": "stdout",
     "output_type": "stream",
     "text": [
      "high_frac        0.083205\n",
      "low_frac         0.254191\n",
      "medium_frac      0.662604\n",
      "manager_skill    0.829014\n",
      "dtype: float64\n",
      "            high_frac  low_frac  medium_frac  count  manager_skill\n",
      "manager_id                                                        \n",
      "3385         0.083205  0.254191     0.662604      3       0.829014\n",
      "3386         0.083205  0.254191     0.662604      8       0.829014\n",
      "3387         0.083205  0.254191     0.662604      1       0.829014\n",
      "3388         0.083205  0.254191     0.662604      1       0.829014\n",
      "3389         0.083205  0.254191     0.662604      7       0.829014\n",
      "3390         0.083205  0.254191     0.662604      1       0.829014\n",
      "3391         0.083205  0.254191     0.662604      7       0.829014\n",
      "3392         0.083205  0.254191     0.662604      2       0.829014\n",
      "3393         0.083205  0.254191     0.662604      7       0.829014\n",
      "3394         0.034783  0.295652     0.669565    115       0.739130\n"
     ]
    }
   ],
   "source": [
    "temp['manager_skill'] = temp['high_frac']*2 + temp['medium_frac']\n",
    "\n",
    "# get ixes for unranked managers...\n",
    "unranked_managers_ixes = temp['count']<20\n",
    "# ... and ranked ones\n",
    "ranked_managers_ixes = ~unranked_managers_ixes\n",
    "\n",
    "# compute mean values from ranked managers and assign them to unranked ones\n",
    "mean_values = temp.loc[ranked_managers_ixes, ['high_frac','low_frac', 'medium_frac','manager_skill']].mean()\n",
    "print(mean_values)\n",
    "temp.loc[unranked_managers_ixes,['high_frac','low_frac', 'medium_frac','manager_skill']] = mean_values.values\n",
    "print(temp.tail(10))"
   ]
  },
  {
   "cell_type": "code",
   "execution_count": 61,
   "metadata": {
    "collapsed": false
   },
   "outputs": [
    {
     "data": {
      "text/html": [
       "<div>\n",
       "<table border=\"1\" class=\"dataframe\">\n",
       "  <thead>\n",
       "    <tr style=\"text-align: right;\">\n",
       "      <th></th>\n",
       "      <th>bathrooms</th>\n",
       "      <th>bedrooms</th>\n",
       "      <th>building_id</th>\n",
       "      <th>created</th>\n",
       "      <th>description</th>\n",
       "      <th>display_address</th>\n",
       "      <th>features</th>\n",
       "      <th>interest_level</th>\n",
       "      <th>latitude</th>\n",
       "      <th>listing_id</th>\n",
       "      <th>...</th>\n",
       "      <th>bed_bath_total</th>\n",
       "      <th>price_per_room</th>\n",
       "      <th>words_in_description</th>\n",
       "      <th>pos</th>\n",
       "      <th>house_density</th>\n",
       "      <th>high_frac</th>\n",
       "      <th>low_frac</th>\n",
       "      <th>medium_frac</th>\n",
       "      <th>count</th>\n",
       "      <th>manager_skill</th>\n",
       "    </tr>\n",
       "  </thead>\n",
       "  <tbody>\n",
       "    <tr>\n",
       "      <th>0</th>\n",
       "      <td>1.5</td>\n",
       "      <td>3</td>\n",
       "      <td>53a5b119ba8f7b61d4e010512e0dfc85</td>\n",
       "      <td>2016-06-24 07:54:24</td>\n",
       "      <td>A Brand New 3 Bedroom 1.5 bath ApartmentEnjoy ...</td>\n",
       "      <td>Metropolitan Avenue</td>\n",
       "      <td></td>\n",
       "      <td>1</td>\n",
       "      <td>40.715</td>\n",
       "      <td>7211212</td>\n",
       "      <td>...</td>\n",
       "      <td>4.5</td>\n",
       "      <td>666.666667</td>\n",
       "      <td>94</td>\n",
       "      <td>-73.942_40.715</td>\n",
       "      <td>3</td>\n",
       "      <td>0.000000</td>\n",
       "      <td>0.255556</td>\n",
       "      <td>0.744444</td>\n",
       "      <td>90</td>\n",
       "      <td>0.744444</td>\n",
       "    </tr>\n",
       "    <tr>\n",
       "      <th>1</th>\n",
       "      <td>1.0</td>\n",
       "      <td>1</td>\n",
       "      <td>c3ba40552e2120b0acfc3cb5730bb2aa</td>\n",
       "      <td>2016-04-17 03:26:41</td>\n",
       "      <td>Top Top West Village location, beautiful Pre-w...</td>\n",
       "      <td>W 13 Street</td>\n",
       "      <td>Laundry_In_Building Dishwasher Hardwood_Floors...</td>\n",
       "      <td>0</td>\n",
       "      <td>40.739</td>\n",
       "      <td>6887163</td>\n",
       "      <td>...</td>\n",
       "      <td>2.0</td>\n",
       "      <td>1425.000000</td>\n",
       "      <td>93</td>\n",
       "      <td>-74.002_40.739</td>\n",
       "      <td>93</td>\n",
       "      <td>0.059701</td>\n",
       "      <td>0.365672</td>\n",
       "      <td>0.574627</td>\n",
       "      <td>134</td>\n",
       "      <td>0.694030</td>\n",
       "    </tr>\n",
       "    <tr>\n",
       "      <th>2</th>\n",
       "      <td>1.0</td>\n",
       "      <td>1</td>\n",
       "      <td>28d9ad350afeaab8027513a3e52ac8d5</td>\n",
       "      <td>2016-04-18 02:22:02</td>\n",
       "      <td>Building Amenities - Garage - Garden - fitness...</td>\n",
       "      <td>East 49th Street</td>\n",
       "      <td>Hardwood_Floors No_Fee</td>\n",
       "      <td>2</td>\n",
       "      <td>40.754</td>\n",
       "      <td>6888711</td>\n",
       "      <td>...</td>\n",
       "      <td>2.0</td>\n",
       "      <td>1637.500000</td>\n",
       "      <td>79</td>\n",
       "      <td>-73.968_40.754</td>\n",
       "      <td>123</td>\n",
       "      <td>0.068063</td>\n",
       "      <td>0.125654</td>\n",
       "      <td>0.806283</td>\n",
       "      <td>191</td>\n",
       "      <td>0.942408</td>\n",
       "    </tr>\n",
       "    <tr>\n",
       "      <th>3</th>\n",
       "      <td>1.0</td>\n",
       "      <td>4</td>\n",
       "      <td>0</td>\n",
       "      <td>2016-04-28 01:32:41</td>\n",
       "      <td>Beautifully renovated 3 bedroom flex 4 bedroom...</td>\n",
       "      <td>West 143rd Street</td>\n",
       "      <td>Pre-War</td>\n",
       "      <td>2</td>\n",
       "      <td>40.824</td>\n",
       "      <td>6934781</td>\n",
       "      <td>...</td>\n",
       "      <td>5.0</td>\n",
       "      <td>670.000000</td>\n",
       "      <td>67</td>\n",
       "      <td>-73.949_40.824</td>\n",
       "      <td>4</td>\n",
       "      <td>0.083205</td>\n",
       "      <td>0.254191</td>\n",
       "      <td>0.662604</td>\n",
       "      <td>15</td>\n",
       "      <td>0.829014</td>\n",
       "    </tr>\n",
       "    <tr>\n",
       "      <th>4</th>\n",
       "      <td>1.0</td>\n",
       "      <td>2</td>\n",
       "      <td>3ba49a93260ca5df92fde024cb4ca61f</td>\n",
       "      <td>2016-04-27 03:19:56</td>\n",
       "      <td>Stunning unit with a great location and lots o...</td>\n",
       "      <td>West 107th Street</td>\n",
       "      <td>prewar elevator Dogs_Allowed Cats_Allowed LOWR...</td>\n",
       "      <td>2</td>\n",
       "      <td>40.801</td>\n",
       "      <td>6930771</td>\n",
       "      <td>...</td>\n",
       "      <td>3.0</td>\n",
       "      <td>1200.000000</td>\n",
       "      <td>86</td>\n",
       "      <td>-73.966_40.801</td>\n",
       "      <td>54</td>\n",
       "      <td>0.083205</td>\n",
       "      <td>0.254191</td>\n",
       "      <td>0.662604</td>\n",
       "      <td>9</td>\n",
       "      <td>0.829014</td>\n",
       "    </tr>\n",
       "  </tbody>\n",
       "</table>\n",
       "<p>5 rows × 37 columns</p>\n",
       "</div>"
      ],
      "text/plain": [
       "   bathrooms  bedrooms                       building_id             created  \\\n",
       "0        1.5         3  53a5b119ba8f7b61d4e010512e0dfc85 2016-06-24 07:54:24   \n",
       "1        1.0         1  c3ba40552e2120b0acfc3cb5730bb2aa 2016-04-17 03:26:41   \n",
       "2        1.0         1  28d9ad350afeaab8027513a3e52ac8d5 2016-04-18 02:22:02   \n",
       "3        1.0         4                                 0 2016-04-28 01:32:41   \n",
       "4        1.0         2  3ba49a93260ca5df92fde024cb4ca61f 2016-04-27 03:19:56   \n",
       "\n",
       "                                         description      display_address  \\\n",
       "0  A Brand New 3 Bedroom 1.5 bath ApartmentEnjoy ...  Metropolitan Avenue   \n",
       "1  Top Top West Village location, beautiful Pre-w...          W 13 Street   \n",
       "2  Building Amenities - Garage - Garden - fitness...     East 49th Street   \n",
       "3  Beautifully renovated 3 bedroom flex 4 bedroom...    West 143rd Street   \n",
       "4  Stunning unit with a great location and lots o...    West 107th Street   \n",
       "\n",
       "                                            features  interest_level  \\\n",
       "0                                                                  1   \n",
       "1  Laundry_In_Building Dishwasher Hardwood_Floors...               0   \n",
       "2                             Hardwood_Floors No_Fee               2   \n",
       "3                                            Pre-War               2   \n",
       "4  prewar elevator Dogs_Allowed Cats_Allowed LOWR...               2   \n",
       "\n",
       "   latitude  listing_id      ...        bed_bath_total  price_per_room  \\\n",
       "0    40.715     7211212      ...                   4.5      666.666667   \n",
       "1    40.739     6887163      ...                   2.0     1425.000000   \n",
       "2    40.754     6888711      ...                   2.0     1637.500000   \n",
       "3    40.824     6934781      ...                   5.0      670.000000   \n",
       "4    40.801     6930771      ...                   3.0     1200.000000   \n",
       "\n",
       "  words_in_description             pos house_density  high_frac  low_frac  \\\n",
       "0                   94  -73.942_40.715             3   0.000000  0.255556   \n",
       "1                   93  -74.002_40.739            93   0.059701  0.365672   \n",
       "2                   79  -73.968_40.754           123   0.068063  0.125654   \n",
       "3                   67  -73.949_40.824             4   0.083205  0.254191   \n",
       "4                   86  -73.966_40.801            54   0.083205  0.254191   \n",
       "\n",
       "   medium_frac  count  manager_skill  \n",
       "0     0.744444     90       0.744444  \n",
       "1     0.574627    134       0.694030  \n",
       "2     0.806283    191       0.942408  \n",
       "3     0.662604     15       0.829014  \n",
       "4     0.662604      9       0.829014  \n",
       "\n",
       "[5 rows x 37 columns]"
      ]
     },
     "execution_count": 61,
     "metadata": {},
     "output_type": "execute_result"
    }
   ],
   "source": [
    "df_train_complete = df_train_complete.merge(temp.reset_index(),how='left', left_on='manager_id', right_on='manager_id')\n",
    "df_train_complete.head()"
   ]
  },
  {
   "cell_type": "code",
   "execution_count": 303,
   "metadata": {
    "collapsed": false
   },
   "outputs": [
    {
     "name": "stdout",
     "output_type": "stream",
     "text": [
      "[[  4.07782137e+01  -7.39587265e+01]\n",
      " [  0.00000000e+00   1.42108547e-14]\n",
      " [  3.40130000e+01  -1.18271000e+02]\n",
      " [  4.48830000e+01  -9.32700000e+01]\n",
      " [  4.21682500e+01  -7.11518333e+01]\n",
      " [  4.07428444e+01  -7.39865677e+01]\n",
      " [  4.08392110e+01  -7.39356561e+01]\n",
      " [  4.07068820e+01  -7.38870688e+01]\n",
      " [  4.29266667e+01  -7.45220000e+01]\n",
      " [  4.06930977e+01  -7.39941620e+01]]\n"
     ]
    }
   ],
   "source": [
    "latlong_X = pd.DataFrame()\n",
    "latlong_X['latitude'] = df_train_complete.latitude.values\n",
    "latlong_X['longitude'] = df_train_complete.longitude.values\n",
    "latlong_kmeans = KMeans(n_clusters=10, random_state=1234).fit(latlong_X)\n",
    "kmeans_centroids = latlong_kmeans.cluster_centers_\n",
    "\n",
    "print(kmeans_centroids)"
   ]
  },
  {
   "cell_type": "code",
   "execution_count": 304,
   "metadata": {
    "collapsed": true
   },
   "outputs": [],
   "source": [
    "df_train_complete['centroid0'] = np.sqrt((kmeans_centroids[0][0] - df_train_complete['latitude'])**2 + (kmeans_centroids[0][1] - df_train_complete['longitude'])**2)\n",
    "df_train_complete['centroid1'] = np.sqrt((kmeans_centroids[1][0] - df_train_complete['latitude'])**2 + (kmeans_centroids[1][1] - df_train_complete['longitude'])**2)\n",
    "df_train_complete['centroid2'] = np.sqrt((kmeans_centroids[2][0] - df_train_complete['latitude'])**2 + (kmeans_centroids[2][1] - df_train_complete['longitude'])**2)\n",
    "df_train_complete['centroid3'] = np.sqrt((kmeans_centroids[3][0] - df_train_complete['latitude'])**2 + (kmeans_centroids[3][1] - df_train_complete['longitude'])**2)\n",
    "df_train_complete['centroid4'] = np.sqrt((kmeans_centroids[4][0] - df_train_complete['latitude'])**2 + (kmeans_centroids[4][1] - df_train_complete['longitude'])**2)\n",
    "df_train_complete['centroid5'] = np.sqrt((kmeans_centroids[5][0] - df_train_complete['latitude'])**2 + (kmeans_centroids[5][1] - df_train_complete['longitude'])**2)\n",
    "df_train_complete['centroid6'] = np.sqrt((kmeans_centroids[6][0] - df_train_complete['latitude'])**2 + (kmeans_centroids[6][1] - df_train_complete['longitude'])**2)\n",
    "df_train_complete['centroid7'] = np.sqrt((kmeans_centroids[7][0] - df_train_complete['latitude'])**2 + (kmeans_centroids[7][1] - df_train_complete['longitude'])**2)\n",
    "df_train_complete['centroid8'] = np.sqrt((kmeans_centroids[8][0] - df_train_complete['latitude'])**2 + (kmeans_centroids[8][1] - df_train_complete['longitude'])**2)\n",
    "df_train_complete['centroid9'] = np.sqrt((kmeans_centroids[9][0] - df_train_complete['latitude'])**2 + (kmeans_centroids[9][1] - df_train_complete['longitude'])**2)\n"
   ]
  },
  {
   "cell_type": "markdown",
   "metadata": {},
   "source": [
    "# Converting to Sparse Vector"
   ]
  },
  {
   "cell_type": "code",
   "execution_count": 305,
   "metadata": {
    "collapsed": true
   },
   "outputs": [],
   "source": [
    "df_train_complete = df_train_complete.replace([np.inf, -np.inf], np.nan)\n",
    "df_train_complete = df_train_complete.dropna()\n",
    "tfidf = CountVectorizer(stop_words='english', max_features=200)\n",
    "tr_sparse = tfidf.fit_transform(df_train_complete[\"features\"])"
   ]
  },
  {
   "cell_type": "code",
   "execution_count": 306,
   "metadata": {
    "collapsed": false
   },
   "outputs": [
    {
     "data": {
      "text/plain": [
       "Index(['level_0', 'index', 'bathrooms', 'bedrooms', 'building_id', 'created',\n",
       "       'description', 'display_address', 'features', 'interest_level',\n",
       "       'latitude', 'listing_id', 'longitude', 'manager_id', 'photos', 'price',\n",
       "       'street_address', 'total_features', 'hours_since_creation',\n",
       "       'created_year', 'created_month', 'created_day', 'created_hour',\n",
       "       'total_listings', 'total_photos', 'listing_by_manager',\n",
       "       'address_similarity', 'log_price', 'price_per_bedroom',\n",
       "       'bed_bath_total', 'price_per_room', 'words_in_description', 'pos',\n",
       "       'house_density', 'high_frac', 'low_frac', 'medium_frac', 'count',\n",
       "       'manager_skill', 'centroid0', 'centroid1', 'centroid2', 'centroid3',\n",
       "       'centroid4', 'centroid5', 'centroid6', 'centroid7', 'centroid8',\n",
       "       'centroid9'],\n",
       "      dtype='object')"
      ]
     },
     "execution_count": 306,
     "metadata": {},
     "output_type": "execute_result"
    }
   ],
   "source": [
    "df_train_complete.columns"
   ]
  },
  {
   "cell_type": "code",
   "execution_count": 307,
   "metadata": {
    "collapsed": false
   },
   "outputs": [],
   "source": [
    "features_to_use = ['bathrooms', 'bedrooms', 'latitude','longitude', 'price','total_features', 'hours_since_creation',\n",
    "       'created_year', 'created_month', 'created_day', 'created_hour',\n",
    "       'total_listings', 'total_photos', 'listing_by_manager',\n",
    "       'address_similarity', 'log_price', 'price_per_bedroom',\n",
    "       'bed_bath_total', 'price_per_room', 'words_in_description',\n",
    "       'house_density','manager_id','manager_skill','centroid0', 'centroid1', 'centroid2', 'centroid3',\n",
    "       'centroid4', 'centroid5', 'centroid6', 'centroid7', 'centroid8',\n",
    "       'centroid9']"
   ]
  },
  {
   "cell_type": "code",
   "execution_count": 308,
   "metadata": {
    "collapsed": true
   },
   "outputs": [],
   "source": [
    "df_train_selectedfeatures = df_train_complete.filter(features_to_use, axis=1)"
   ]
  },
  {
   "cell_type": "code",
   "execution_count": 309,
   "metadata": {
    "collapsed": false
   },
   "outputs": [
    {
     "data": {
      "text/plain": [
       "bathrooms               False\n",
       "bedrooms                False\n",
       "latitude                False\n",
       "longitude               False\n",
       "price                   False\n",
       "total_features          False\n",
       "hours_since_creation    False\n",
       "created_year            False\n",
       "created_month           False\n",
       "created_day             False\n",
       "created_hour            False\n",
       "total_listings          False\n",
       "total_photos            False\n",
       "listing_by_manager      False\n",
       "address_similarity      False\n",
       "log_price               False\n",
       "price_per_bedroom       False\n",
       "bed_bath_total          False\n",
       "price_per_room          False\n",
       "words_in_description    False\n",
       "house_density           False\n",
       "manager_id              False\n",
       "manager_skill           False\n",
       "centroid0               False\n",
       "centroid1               False\n",
       "centroid2               False\n",
       "centroid3               False\n",
       "centroid4               False\n",
       "centroid5               False\n",
       "centroid6               False\n",
       "centroid7               False\n",
       "centroid8               False\n",
       "centroid9               False\n",
       "dtype: bool"
      ]
     },
     "execution_count": 309,
     "metadata": {},
     "output_type": "execute_result"
    }
   ],
   "source": [
    "df_train_selectedfeatures.isnull().any()"
   ]
  },
  {
   "cell_type": "code",
   "execution_count": 310,
   "metadata": {
    "collapsed": false
   },
   "outputs": [],
   "source": [
    "# Stacking Sparse and Dense Vector into Sparse Vector\n",
    "X_train_complete = sparse.hstack([df_train_selectedfeatures, tr_sparse]).tocsr()"
   ]
  },
  {
   "cell_type": "code",
   "execution_count": 311,
   "metadata": {
    "collapsed": false
   },
   "outputs": [
    {
     "data": {
      "text/html": [
       "<div>\n",
       "<table border=\"1\" class=\"dataframe\">\n",
       "  <thead>\n",
       "    <tr style=\"text-align: right;\">\n",
       "      <th></th>\n",
       "      <th>bathrooms</th>\n",
       "      <th>bedrooms</th>\n",
       "      <th>latitude</th>\n",
       "      <th>longitude</th>\n",
       "      <th>price</th>\n",
       "      <th>total_features</th>\n",
       "      <th>hours_since_creation</th>\n",
       "      <th>created_year</th>\n",
       "      <th>created_month</th>\n",
       "      <th>created_day</th>\n",
       "      <th>...</th>\n",
       "      <th>centroid0</th>\n",
       "      <th>centroid1</th>\n",
       "      <th>centroid2</th>\n",
       "      <th>centroid3</th>\n",
       "      <th>centroid4</th>\n",
       "      <th>centroid5</th>\n",
       "      <th>centroid6</th>\n",
       "      <th>centroid7</th>\n",
       "      <th>centroid8</th>\n",
       "      <th>centroid9</th>\n",
       "    </tr>\n",
       "  </thead>\n",
       "  <tbody>\n",
       "    <tr>\n",
       "      <th>0</th>\n",
       "      <td>1.5</td>\n",
       "      <td>3</td>\n",
       "      <td>40.715</td>\n",
       "      <td>-73.942</td>\n",
       "      <td>3000</td>\n",
       "      <td>0</td>\n",
       "      <td>7145.0</td>\n",
       "      <td>2016</td>\n",
       "      <td>6</td>\n",
       "      <td>24</td>\n",
       "      <td>...</td>\n",
       "      <td>0.065389</td>\n",
       "      <td>84.410489</td>\n",
       "      <td>44.832768</td>\n",
       "      <td>19.772299</td>\n",
       "      <td>3.145944</td>\n",
       "      <td>0.052551</td>\n",
       "      <td>0.124373</td>\n",
       "      <td>0.055528</td>\n",
       "      <td>2.286453</td>\n",
       "      <td>0.056574</td>\n",
       "    </tr>\n",
       "    <tr>\n",
       "      <th>1</th>\n",
       "      <td>1.0</td>\n",
       "      <td>1</td>\n",
       "      <td>40.739</td>\n",
       "      <td>-74.002</td>\n",
       "      <td>2850</td>\n",
       "      <td>4</td>\n",
       "      <td>8781.0</td>\n",
       "      <td>2016</td>\n",
       "      <td>4</td>\n",
       "      <td>17</td>\n",
       "      <td>...</td>\n",
       "      <td>0.058398</td>\n",
       "      <td>84.474624</td>\n",
       "      <td>44.777041</td>\n",
       "      <td>19.708591</td>\n",
       "      <td>3.188449</td>\n",
       "      <td>0.015904</td>\n",
       "      <td>0.120182</td>\n",
       "      <td>0.119335</td>\n",
       "      <td>2.248619</td>\n",
       "      <td>0.046567</td>\n",
       "    </tr>\n",
       "    <tr>\n",
       "      <th>2</th>\n",
       "      <td>1.0</td>\n",
       "      <td>1</td>\n",
       "      <td>40.754</td>\n",
       "      <td>-73.968</td>\n",
       "      <td>3275</td>\n",
       "      <td>2</td>\n",
       "      <td>8758.0</td>\n",
       "      <td>2016</td>\n",
       "      <td>4</td>\n",
       "      <td>18</td>\n",
       "      <td>...</td>\n",
       "      <td>0.025929</td>\n",
       "      <td>84.452078</td>\n",
       "      <td>44.812910</td>\n",
       "      <td>19.738689</td>\n",
       "      <td>3.151333</td>\n",
       "      <td>0.021661</td>\n",
       "      <td>0.091143</td>\n",
       "      <td>0.093648</td>\n",
       "      <td>2.242186</td>\n",
       "      <td>0.066284</td>\n",
       "    </tr>\n",
       "    <tr>\n",
       "      <th>3</th>\n",
       "      <td>1.0</td>\n",
       "      <td>4</td>\n",
       "      <td>40.824</td>\n",
       "      <td>-73.949</td>\n",
       "      <td>3350</td>\n",
       "      <td>1</td>\n",
       "      <td>8519.0</td>\n",
       "      <td>2016</td>\n",
       "      <td>4</td>\n",
       "      <td>28</td>\n",
       "      <td>...</td>\n",
       "      <td>0.046808</td>\n",
       "      <td>84.469246</td>\n",
       "      <td>44.842273</td>\n",
       "      <td>19.742759</td>\n",
       "      <td>3.103409</td>\n",
       "      <td>0.089429</td>\n",
       "      <td>0.020235</td>\n",
       "      <td>0.132484</td>\n",
       "      <td>2.179343</td>\n",
       "      <td>0.138474</td>\n",
       "    </tr>\n",
       "    <tr>\n",
       "      <th>4</th>\n",
       "      <td>1.0</td>\n",
       "      <td>2</td>\n",
       "      <td>40.801</td>\n",
       "      <td>-73.966</td>\n",
       "      <td>3600</td>\n",
       "      <td>8</td>\n",
       "      <td>8541.0</td>\n",
       "      <td>2016</td>\n",
       "      <td>4</td>\n",
       "      <td>27</td>\n",
       "      <td>...</td>\n",
       "      <td>0.023919</td>\n",
       "      <td>84.473018</td>\n",
       "      <td>44.821981</td>\n",
       "      <td>19.730868</td>\n",
       "      <td>3.128723</td>\n",
       "      <td>0.061686</td>\n",
       "      <td>0.048794</td>\n",
       "      <td>0.122835</td>\n",
       "      <td>2.197179</td>\n",
       "      <td>0.111517</td>\n",
       "    </tr>\n",
       "  </tbody>\n",
       "</table>\n",
       "<p>5 rows × 33 columns</p>\n",
       "</div>"
      ],
      "text/plain": [
       "   bathrooms  bedrooms  latitude  longitude  price  total_features  \\\n",
       "0        1.5         3    40.715    -73.942   3000               0   \n",
       "1        1.0         1    40.739    -74.002   2850               4   \n",
       "2        1.0         1    40.754    -73.968   3275               2   \n",
       "3        1.0         4    40.824    -73.949   3350               1   \n",
       "4        1.0         2    40.801    -73.966   3600               8   \n",
       "\n",
       "   hours_since_creation  created_year  created_month  created_day    ...      \\\n",
       "0                7145.0          2016              6           24    ...       \n",
       "1                8781.0          2016              4           17    ...       \n",
       "2                8758.0          2016              4           18    ...       \n",
       "3                8519.0          2016              4           28    ...       \n",
       "4                8541.0          2016              4           27    ...       \n",
       "\n",
       "   centroid0  centroid1  centroid2  centroid3  centroid4  centroid5  \\\n",
       "0   0.065389  84.410489  44.832768  19.772299   3.145944   0.052551   \n",
       "1   0.058398  84.474624  44.777041  19.708591   3.188449   0.015904   \n",
       "2   0.025929  84.452078  44.812910  19.738689   3.151333   0.021661   \n",
       "3   0.046808  84.469246  44.842273  19.742759   3.103409   0.089429   \n",
       "4   0.023919  84.473018  44.821981  19.730868   3.128723   0.061686   \n",
       "\n",
       "   centroid6  centroid7  centroid8  centroid9  \n",
       "0   0.124373   0.055528   2.286453   0.056574  \n",
       "1   0.120182   0.119335   2.248619   0.046567  \n",
       "2   0.091143   0.093648   2.242186   0.066284  \n",
       "3   0.020235   0.132484   2.179343   0.138474  \n",
       "4   0.048794   0.122835   2.197179   0.111517  \n",
       "\n",
       "[5 rows x 33 columns]"
      ]
     },
     "execution_count": 311,
     "metadata": {},
     "output_type": "execute_result"
    }
   ],
   "source": [
    "df_train_selectedfeatures.head()"
   ]
  },
  {
   "cell_type": "code",
   "execution_count": 312,
   "metadata": {
    "collapsed": false
   },
   "outputs": [
    {
     "data": {
      "text/plain": [
       "Index(['bathrooms', 'bedrooms', 'latitude', 'longitude', 'price',\n",
       "       'total_features', 'hours_since_creation', 'created_year',\n",
       "       'created_month', 'created_day', 'created_hour', 'total_listings',\n",
       "       'total_photos', 'listing_by_manager', 'address_similarity', 'log_price',\n",
       "       'price_per_bedroom', 'bed_bath_total', 'price_per_room',\n",
       "       'words_in_description', 'house_density', 'manager_id', 'manager_skill',\n",
       "       'centroid0', 'centroid1', 'centroid2', 'centroid3', 'centroid4',\n",
       "       'centroid5', 'centroid6', 'centroid7', 'centroid8', 'centroid9'],\n",
       "      dtype='object')"
      ]
     },
     "execution_count": 312,
     "metadata": {},
     "output_type": "execute_result"
    }
   ],
   "source": [
    "df_train_selectedfeatures.columns"
   ]
  },
  {
   "cell_type": "code",
   "execution_count": 313,
   "metadata": {
    "collapsed": false
   },
   "outputs": [],
   "source": [
    "Y_train_complete = df_train_complete.filter(['interest_level'], axis = 1)"
   ]
  },
  {
   "cell_type": "markdown",
   "metadata": {},
   "source": [
    "## Splititng into Validation and Train Dataset"
   ]
  },
  {
   "cell_type": "code",
   "execution_count": 314,
   "metadata": {
    "collapsed": false
   },
   "outputs": [],
   "source": [
    "X_train, X_test, y_train, y_test = train_test_split(X_train_complete, Y_train_complete, test_size=0.30, random_state=42)"
   ]
  },
  {
   "cell_type": "markdown",
   "metadata": {},
   "source": [
    "# Trying Random Forest"
   ]
  },
  {
   "cell_type": "code",
   "execution_count": 315,
   "metadata": {
    "collapsed": false
   },
   "outputs": [],
   "source": [
    "clf1 = RandomForestClassifier(n_estimators=1000)"
   ]
  },
  {
   "cell_type": "code",
   "execution_count": 316,
   "metadata": {
    "collapsed": false
   },
   "outputs": [
    {
     "data": {
      "text/plain": [
       "array([2, 2, 1, ..., 2, 2, 1], dtype=int64)"
      ]
     },
     "execution_count": 316,
     "metadata": {},
     "output_type": "execute_result"
    }
   ],
   "source": [
    "y_train = np.array(y_train)\n",
    "c, r = np.array(y_train).shape\n",
    "y_train.reshape(c,)"
   ]
  },
  {
   "cell_type": "code",
   "execution_count": 317,
   "metadata": {
    "collapsed": false
   },
   "outputs": [
    {
     "data": {
      "text/plain": [
       "RandomForestClassifier(bootstrap=True, class_weight=None, criterion='gini',\n",
       "            max_depth=None, max_features='auto', max_leaf_nodes=None,\n",
       "            min_impurity_split=1e-07, min_samples_leaf=1,\n",
       "            min_samples_split=2, min_weight_fraction_leaf=0.0,\n",
       "            n_estimators=1000, n_jobs=1, oob_score=False,\n",
       "            random_state=None, verbose=0, warm_start=False)"
      ]
     },
     "execution_count": 317,
     "metadata": {},
     "output_type": "execute_result"
    }
   ],
   "source": [
    "clf1.fit(X_train, y_train.ravel())"
   ]
  },
  {
   "cell_type": "code",
   "execution_count": 318,
   "metadata": {
    "collapsed": false
   },
   "outputs": [],
   "source": [
    "Z = clf1.predict(X_test)"
   ]
  },
  {
   "cell_type": "code",
   "execution_count": 319,
   "metadata": {
    "collapsed": false
   },
   "outputs": [
    {
     "data": {
      "text/plain": [
       "array([0, 1, 2], dtype=int64)"
      ]
     },
     "execution_count": 319,
     "metadata": {},
     "output_type": "execute_result"
    }
   ],
   "source": [
    "clf1.classes_"
   ]
  },
  {
   "cell_type": "code",
   "execution_count": 321,
   "metadata": {
    "collapsed": false
   },
   "outputs": [
    {
     "data": {
      "text/plain": [
       "0.73108715184186879"
      ]
     },
     "execution_count": 321,
     "metadata": {},
     "output_type": "execute_result"
    }
   ],
   "source": [
    "accuracy_score(y_test, Z)"
   ]
  },
  {
   "cell_type": "code",
   "execution_count": 322,
   "metadata": {
    "collapsed": false
   },
   "outputs": [
    {
     "data": {
      "text/plain": [
       "numpy.ndarray"
      ]
     },
     "execution_count": 322,
     "metadata": {},
     "output_type": "execute_result"
    }
   ],
   "source": [
    "prob = clf1.predict_proba(X_test)\n",
    "type(prob)"
   ]
  },
  {
   "cell_type": "markdown",
   "metadata": {},
   "source": [
    "#### Determining logloss on Validation Set"
   ]
  },
  {
   "cell_type": "code",
   "execution_count": 325,
   "metadata": {
    "collapsed": false
   },
   "outputs": [
    {
     "data": {
      "text/plain": [
       "0.59844580340965281"
      ]
     },
     "execution_count": 325,
     "metadata": {},
     "output_type": "execute_result"
    }
   ],
   "source": [
    "log_loss(y_test, prob, eps = 1e-15)"
   ]
  },
  {
   "cell_type": "markdown",
   "metadata": {},
   "source": [
    "# XGBoost Parameters Preperation (Gradient Boosted Treess)"
   ]
  },
  {
   "cell_type": "code",
   "execution_count": 327,
   "metadata": {
    "collapsed": true
   },
   "outputs": [],
   "source": [
    "def runXGB(train_X, train_y, test_X, test_y=None, feature_names=None, seed_val=321, num_rounds=2000):\n",
    "    param = {}\n",
    "    param['objective'] = 'multi:softprob'\n",
    "    param['eta'] = 0.02\n",
    "    param['max_depth'] = 6\n",
    "    param['silent'] = 1\n",
    "    param['num_class'] = 3\n",
    "    param['eval_metric'] = \"mlogloss\"\n",
    "    param['min_child_weight'] = 1\n",
    "    param['subsample'] = 0.7\n",
    "    param['colsample_bytree'] = 0.7\n",
    "    param['seed'] = seed_val\n",
    "    num_rounds = num_rounds\n",
    "\n",
    "    plst = list(param.items())\n",
    "    xgtrain = xgb.DMatrix(train_X, label=train_y)\n",
    "\n",
    "    if test_y is not None:\n",
    "        xgtest = xgb.DMatrix(test_X, label=test_y)\n",
    "        watchlist = [ (xgtrain,'train'), (xgtest, 'test') ]\n",
    "        model = xgb.train(plst, xgtrain, num_rounds, watchlist, early_stopping_rounds=20)\n",
    "    else:\n",
    "        xgtest = xgb.DMatrix(test_X)\n",
    "        model = xgb.train(plst, xgtrain, num_rounds)\n",
    "\n",
    "    pred_test_y = model.predict(xgtest)\n",
    "    return pred_test_y, model"
   ]
  },
  {
   "cell_type": "markdown",
   "metadata": {},
   "source": [
    "#  Test Data Preperation"
   ]
  },
  {
   "cell_type": "code",
   "execution_count": 328,
   "metadata": {
    "collapsed": true
   },
   "outputs": [],
   "source": [
    "df_test_complete = pd.read_json(\"data\\\\test.json\")"
   ]
  },
  {
   "cell_type": "code",
   "execution_count": 329,
   "metadata": {
    "collapsed": false
   },
   "outputs": [
    {
     "data": {
      "text/html": [
       "<div>\n",
       "<table border=\"1\" class=\"dataframe\">\n",
       "  <thead>\n",
       "    <tr style=\"text-align: right;\">\n",
       "      <th></th>\n",
       "      <th>bathrooms</th>\n",
       "      <th>bedrooms</th>\n",
       "      <th>building_id</th>\n",
       "      <th>created</th>\n",
       "      <th>description</th>\n",
       "      <th>display_address</th>\n",
       "      <th>features</th>\n",
       "      <th>latitude</th>\n",
       "      <th>listing_id</th>\n",
       "      <th>longitude</th>\n",
       "      <th>manager_id</th>\n",
       "      <th>photos</th>\n",
       "      <th>price</th>\n",
       "      <th>street_address</th>\n",
       "    </tr>\n",
       "  </thead>\n",
       "  <tbody>\n",
       "    <tr>\n",
       "      <th>0</th>\n",
       "      <td>1.0</td>\n",
       "      <td>1</td>\n",
       "      <td>79780be1514f645d7e6be99a3de696c5</td>\n",
       "      <td>2016-06-11 05:29:41</td>\n",
       "      <td>Large with awesome terrace--accessible via bed...</td>\n",
       "      <td>Suffolk Street</td>\n",
       "      <td>[Elevator, Laundry in Building, Laundry in Uni...</td>\n",
       "      <td>40.7185</td>\n",
       "      <td>7142618</td>\n",
       "      <td>-73.9865</td>\n",
       "      <td>b1b1852c416d78d7765d746cb1b8921f</td>\n",
       "      <td>[https://photos.renthop.com/2/7142618_1c45a2c8...</td>\n",
       "      <td>2950</td>\n",
       "      <td>99 Suffolk Street</td>\n",
       "    </tr>\n",
       "    <tr>\n",
       "      <th>1</th>\n",
       "      <td>1.0</td>\n",
       "      <td>2</td>\n",
       "      <td>0</td>\n",
       "      <td>2016-06-24 06:36:34</td>\n",
       "      <td>Prime Soho - between Bleecker and Houston - Ne...</td>\n",
       "      <td>Thompson Street</td>\n",
       "      <td>[Pre-War, Dogs Allowed, Cats Allowed]</td>\n",
       "      <td>40.7278</td>\n",
       "      <td>7210040</td>\n",
       "      <td>-74.0000</td>\n",
       "      <td>d0b5648017832b2427eeb9956d966a14</td>\n",
       "      <td>[https://photos.renthop.com/2/7210040_d824cc71...</td>\n",
       "      <td>2850</td>\n",
       "      <td>176 Thompson Street</td>\n",
       "    </tr>\n",
       "    <tr>\n",
       "      <th>100</th>\n",
       "      <td>1.0</td>\n",
       "      <td>1</td>\n",
       "      <td>3dbbb69fd52e0d25131aa1cd459c87eb</td>\n",
       "      <td>2016-06-03 04:29:40</td>\n",
       "      <td>New York chic has reached a new level ...</td>\n",
       "      <td>101 East 10th Street</td>\n",
       "      <td>[Doorman, Elevator, No Fee]</td>\n",
       "      <td>40.7306</td>\n",
       "      <td>7103890</td>\n",
       "      <td>-73.9890</td>\n",
       "      <td>9ca6f3baa475c37a3b3521a394d65467</td>\n",
       "      <td>[https://photos.renthop.com/2/7103890_85b33077...</td>\n",
       "      <td>3758</td>\n",
       "      <td>101 East 10th Street</td>\n",
       "    </tr>\n",
       "    <tr>\n",
       "      <th>1000</th>\n",
       "      <td>1.0</td>\n",
       "      <td>2</td>\n",
       "      <td>783d21d013a7e655bddc4ed0d461cc5e</td>\n",
       "      <td>2016-06-11 06:17:35</td>\n",
       "      <td>Step into this fantastic new Construction in t...</td>\n",
       "      <td>South Third Street\\r</td>\n",
       "      <td>[Roof Deck, Balcony, Elevator, Laundry in Buil...</td>\n",
       "      <td>40.7109</td>\n",
       "      <td>7143442</td>\n",
       "      <td>-73.9571</td>\n",
       "      <td>0b9d5db96db8472d7aeb67c67338c4d2</td>\n",
       "      <td>[https://photos.renthop.com/2/7143442_0879e9e0...</td>\n",
       "      <td>3300</td>\n",
       "      <td>251  South Third Street\\r</td>\n",
       "    </tr>\n",
       "    <tr>\n",
       "      <th>100000</th>\n",
       "      <td>2.0</td>\n",
       "      <td>2</td>\n",
       "      <td>6134e7c4dd1a98d9aee36623c9872b49</td>\n",
       "      <td>2016-04-12 05:24:17</td>\n",
       "      <td>~Take a stroll in Central Park, enjoy the ente...</td>\n",
       "      <td>Midtown West, 8th Ave</td>\n",
       "      <td>[Common Outdoor Space, Cats Allowed, Dogs Allo...</td>\n",
       "      <td>40.7650</td>\n",
       "      <td>6860601</td>\n",
       "      <td>-73.9845</td>\n",
       "      <td>b5eda0eb31b042ce2124fd9e9fcfce2f</td>\n",
       "      <td>[https://photos.renthop.com/2/6860601_c96164d8...</td>\n",
       "      <td>4900</td>\n",
       "      <td>260 West 54th Street</td>\n",
       "    </tr>\n",
       "  </tbody>\n",
       "</table>\n",
       "</div>"
      ],
      "text/plain": [
       "        bathrooms  bedrooms                       building_id  \\\n",
       "0             1.0         1  79780be1514f645d7e6be99a3de696c5   \n",
       "1             1.0         2                                 0   \n",
       "100           1.0         1  3dbbb69fd52e0d25131aa1cd459c87eb   \n",
       "1000          1.0         2  783d21d013a7e655bddc4ed0d461cc5e   \n",
       "100000        2.0         2  6134e7c4dd1a98d9aee36623c9872b49   \n",
       "\n",
       "                    created  \\\n",
       "0       2016-06-11 05:29:41   \n",
       "1       2016-06-24 06:36:34   \n",
       "100     2016-06-03 04:29:40   \n",
       "1000    2016-06-11 06:17:35   \n",
       "100000  2016-04-12 05:24:17   \n",
       "\n",
       "                                              description  \\\n",
       "0       Large with awesome terrace--accessible via bed...   \n",
       "1       Prime Soho - between Bleecker and Houston - Ne...   \n",
       "100             New York chic has reached a new level ...   \n",
       "1000    Step into this fantastic new Construction in t...   \n",
       "100000  ~Take a stroll in Central Park, enjoy the ente...   \n",
       "\n",
       "              display_address  \\\n",
       "0              Suffolk Street   \n",
       "1             Thompson Street   \n",
       "100      101 East 10th Street   \n",
       "1000     South Third Street\\r   \n",
       "100000  Midtown West, 8th Ave   \n",
       "\n",
       "                                                 features  latitude  \\\n",
       "0       [Elevator, Laundry in Building, Laundry in Uni...   40.7185   \n",
       "1                   [Pre-War, Dogs Allowed, Cats Allowed]   40.7278   \n",
       "100                           [Doorman, Elevator, No Fee]   40.7306   \n",
       "1000    [Roof Deck, Balcony, Elevator, Laundry in Buil...   40.7109   \n",
       "100000  [Common Outdoor Space, Cats Allowed, Dogs Allo...   40.7650   \n",
       "\n",
       "        listing_id  longitude                        manager_id  \\\n",
       "0          7142618   -73.9865  b1b1852c416d78d7765d746cb1b8921f   \n",
       "1          7210040   -74.0000  d0b5648017832b2427eeb9956d966a14   \n",
       "100        7103890   -73.9890  9ca6f3baa475c37a3b3521a394d65467   \n",
       "1000       7143442   -73.9571  0b9d5db96db8472d7aeb67c67338c4d2   \n",
       "100000     6860601   -73.9845  b5eda0eb31b042ce2124fd9e9fcfce2f   \n",
       "\n",
       "                                                   photos  price  \\\n",
       "0       [https://photos.renthop.com/2/7142618_1c45a2c8...   2950   \n",
       "1       [https://photos.renthop.com/2/7210040_d824cc71...   2850   \n",
       "100     [https://photos.renthop.com/2/7103890_85b33077...   3758   \n",
       "1000    [https://photos.renthop.com/2/7143442_0879e9e0...   3300   \n",
       "100000  [https://photos.renthop.com/2/6860601_c96164d8...   4900   \n",
       "\n",
       "                   street_address  \n",
       "0               99 Suffolk Street  \n",
       "1             176 Thompson Street  \n",
       "100          101 East 10th Street  \n",
       "1000    251  South Third Street\\r  \n",
       "100000       260 West 54th Street  "
      ]
     },
     "execution_count": 329,
     "metadata": {},
     "output_type": "execute_result"
    }
   ],
   "source": [
    "df_test_complete.head()"
   ]
  },
  {
   "cell_type": "code",
   "execution_count": 330,
   "metadata": {
    "collapsed": false
   },
   "outputs": [
    {
     "data": {
      "text/html": [
       "<div>\n",
       "<table border=\"1\" class=\"dataframe\">\n",
       "  <thead>\n",
       "    <tr style=\"text-align: right;\">\n",
       "      <th></th>\n",
       "      <th>bathrooms</th>\n",
       "      <th>bedrooms</th>\n",
       "      <th>building_id</th>\n",
       "      <th>created</th>\n",
       "      <th>description</th>\n",
       "      <th>display_address</th>\n",
       "      <th>features</th>\n",
       "      <th>latitude</th>\n",
       "      <th>listing_id</th>\n",
       "      <th>longitude</th>\n",
       "      <th>...</th>\n",
       "      <th>house_density</th>\n",
       "      <th>created_year</th>\n",
       "      <th>created_month</th>\n",
       "      <th>created_day</th>\n",
       "      <th>created_hour</th>\n",
       "      <th>high_frac</th>\n",
       "      <th>low_frac</th>\n",
       "      <th>medium_frac</th>\n",
       "      <th>count</th>\n",
       "      <th>manager_skill</th>\n",
       "    </tr>\n",
       "  </thead>\n",
       "  <tbody>\n",
       "    <tr>\n",
       "      <th>0</th>\n",
       "      <td>1.0</td>\n",
       "      <td>1</td>\n",
       "      <td>79780be1514f645d7e6be99a3de696c5</td>\n",
       "      <td>2016-06-11 05:29:41</td>\n",
       "      <td>Large with awesome terrace--accessible via bed...</td>\n",
       "      <td>Suffolk Street</td>\n",
       "      <td>Elevator Laundry_in_Building Laundry_in_Unit D...</td>\n",
       "      <td>40.718</td>\n",
       "      <td>7142618</td>\n",
       "      <td>-73.987</td>\n",
       "      <td>...</td>\n",
       "      <td>4</td>\n",
       "      <td>2016</td>\n",
       "      <td>6</td>\n",
       "      <td>11</td>\n",
       "      <td>5</td>\n",
       "      <td>0.083205</td>\n",
       "      <td>0.254191</td>\n",
       "      <td>0.662604</td>\n",
       "      <td>1.0</td>\n",
       "      <td>0.829014</td>\n",
       "    </tr>\n",
       "    <tr>\n",
       "      <th>1</th>\n",
       "      <td>1.0</td>\n",
       "      <td>2</td>\n",
       "      <td>0</td>\n",
       "      <td>2016-06-24 06:36:34</td>\n",
       "      <td>Prime Soho - between Bleecker and Houston - Ne...</td>\n",
       "      <td>Thompson Street</td>\n",
       "      <td>Pre-War Dogs_Allowed Cats_Allowed</td>\n",
       "      <td>40.728</td>\n",
       "      <td>7210040</td>\n",
       "      <td>-74.000</td>\n",
       "      <td>...</td>\n",
       "      <td>79</td>\n",
       "      <td>2016</td>\n",
       "      <td>6</td>\n",
       "      <td>24</td>\n",
       "      <td>6</td>\n",
       "      <td>0.083205</td>\n",
       "      <td>0.254191</td>\n",
       "      <td>0.662604</td>\n",
       "      <td>10.0</td>\n",
       "      <td>0.829014</td>\n",
       "    </tr>\n",
       "    <tr>\n",
       "      <th>2</th>\n",
       "      <td>1.0</td>\n",
       "      <td>1</td>\n",
       "      <td>3dbbb69fd52e0d25131aa1cd459c87eb</td>\n",
       "      <td>2016-06-03 04:29:40</td>\n",
       "      <td>New York chic has reached a new level at 101 E...</td>\n",
       "      <td>101 East 10th Street</td>\n",
       "      <td>Doorman Elevator No_Fee</td>\n",
       "      <td>40.731</td>\n",
       "      <td>7103890</td>\n",
       "      <td>-73.989</td>\n",
       "      <td>...</td>\n",
       "      <td>18</td>\n",
       "      <td>2016</td>\n",
       "      <td>6</td>\n",
       "      <td>3</td>\n",
       "      <td>4</td>\n",
       "      <td>0.083205</td>\n",
       "      <td>0.254191</td>\n",
       "      <td>0.662604</td>\n",
       "      <td>1.0</td>\n",
       "      <td>0.829014</td>\n",
       "    </tr>\n",
       "    <tr>\n",
       "      <th>3</th>\n",
       "      <td>1.0</td>\n",
       "      <td>2</td>\n",
       "      <td>783d21d013a7e655bddc4ed0d461cc5e</td>\n",
       "      <td>2016-06-11 06:17:35</td>\n",
       "      <td>Step into this fantastic new Construction in t...</td>\n",
       "      <td>South Third Street</td>\n",
       "      <td>Roof_Deck Balcony Elevator Laundry_in_Building...</td>\n",
       "      <td>40.711</td>\n",
       "      <td>7143442</td>\n",
       "      <td>-73.957</td>\n",
       "      <td>...</td>\n",
       "      <td>1</td>\n",
       "      <td>2016</td>\n",
       "      <td>6</td>\n",
       "      <td>11</td>\n",
       "      <td>6</td>\n",
       "      <td>0.083205</td>\n",
       "      <td>0.254191</td>\n",
       "      <td>0.662604</td>\n",
       "      <td>2.0</td>\n",
       "      <td>0.829014</td>\n",
       "    </tr>\n",
       "    <tr>\n",
       "      <th>4</th>\n",
       "      <td>2.0</td>\n",
       "      <td>2</td>\n",
       "      <td>6134e7c4dd1a98d9aee36623c9872b49</td>\n",
       "      <td>2016-04-12 05:24:17</td>\n",
       "      <td>~Take a stroll in Central Park, enjoy the ente...</td>\n",
       "      <td>Midtown West, 8th Ave</td>\n",
       "      <td>Common_Outdoor_Space Cats_Allowed Dogs_Allowed...</td>\n",
       "      <td>40.765</td>\n",
       "      <td>6860601</td>\n",
       "      <td>-73.984</td>\n",
       "      <td>...</td>\n",
       "      <td>19</td>\n",
       "      <td>2016</td>\n",
       "      <td>4</td>\n",
       "      <td>12</td>\n",
       "      <td>5</td>\n",
       "      <td>0.083205</td>\n",
       "      <td>0.254191</td>\n",
       "      <td>0.662604</td>\n",
       "      <td>6.0</td>\n",
       "      <td>0.829014</td>\n",
       "    </tr>\n",
       "  </tbody>\n",
       "</table>\n",
       "<p>5 rows × 36 columns</p>\n",
       "</div>"
      ],
      "text/plain": [
       "   bathrooms  bedrooms                       building_id             created  \\\n",
       "0        1.0         1  79780be1514f645d7e6be99a3de696c5 2016-06-11 05:29:41   \n",
       "1        1.0         2                                 0 2016-06-24 06:36:34   \n",
       "2        1.0         1  3dbbb69fd52e0d25131aa1cd459c87eb 2016-06-03 04:29:40   \n",
       "3        1.0         2  783d21d013a7e655bddc4ed0d461cc5e 2016-06-11 06:17:35   \n",
       "4        2.0         2  6134e7c4dd1a98d9aee36623c9872b49 2016-04-12 05:24:17   \n",
       "\n",
       "                                         description        display_address  \\\n",
       "0  Large with awesome terrace--accessible via bed...         Suffolk Street   \n",
       "1  Prime Soho - between Bleecker and Houston - Ne...        Thompson Street   \n",
       "2  New York chic has reached a new level at 101 E...   101 East 10th Street   \n",
       "3  Step into this fantastic new Construction in t...     South Third Street   \n",
       "4  ~Take a stroll in Central Park, enjoy the ente...  Midtown West, 8th Ave   \n",
       "\n",
       "                                            features  latitude  listing_id  \\\n",
       "0  Elevator Laundry_in_Building Laundry_in_Unit D...    40.718     7142618   \n",
       "1                  Pre-War Dogs_Allowed Cats_Allowed    40.728     7210040   \n",
       "2                            Doorman Elevator No_Fee    40.731     7103890   \n",
       "3  Roof_Deck Balcony Elevator Laundry_in_Building...    40.711     7143442   \n",
       "4  Common_Outdoor_Space Cats_Allowed Dogs_Allowed...    40.765     6860601   \n",
       "\n",
       "   longitude      ...        house_density created_year  created_month  \\\n",
       "0    -73.987      ...                    4         2016              6   \n",
       "1    -74.000      ...                   79         2016              6   \n",
       "2    -73.989      ...                   18         2016              6   \n",
       "3    -73.957      ...                    1         2016              6   \n",
       "4    -73.984      ...                   19         2016              4   \n",
       "\n",
       "  created_day  created_hour  high_frac  low_frac  medium_frac  count  \\\n",
       "0          11             5   0.083205  0.254191     0.662604    1.0   \n",
       "1          24             6   0.083205  0.254191     0.662604   10.0   \n",
       "2           3             4   0.083205  0.254191     0.662604    1.0   \n",
       "3          11             6   0.083205  0.254191     0.662604    2.0   \n",
       "4          12             5   0.083205  0.254191     0.662604    6.0   \n",
       "\n",
       "   manager_skill  \n",
       "0       0.829014  \n",
       "1       0.829014  \n",
       "2       0.829014  \n",
       "3       0.829014  \n",
       "4       0.829014  \n",
       "\n",
       "[5 rows x 36 columns]"
      ]
     },
     "execution_count": 330,
     "metadata": {},
     "output_type": "execute_result"
    }
   ],
   "source": [
    "df_test_complete['description'] = df_test_complete['description'].map(str.strip)\n",
    "df_test_complete['building_id'] = df_test_complete['building_id'].map(str.strip)\n",
    "df_test_complete['created'] = df_test_complete['created'].map(str.strip)\n",
    "df_test_complete['display_address'] = df_test_complete['display_address'].map(str.strip)\n",
    "df_test_complete['street_address'] = df_test_complete['street_address'].map(str.strip)\n",
    "df_test_complete.replace('', np.nan, inplace=True)\n",
    "\n",
    "def get_listing_bid_test(x):\n",
    "    return bid_count_list_test[x['building_id']]\n",
    "\n",
    "def get_listing_count_bymanagerid_test(x):\n",
    "    return managerid_count_list_test[x['manager_id']]\n",
    "\n",
    "df_test_complete['total_features'] = df_test_complete.apply(get_no_of_features, axis=1)\n",
    "df_test_complete['hours_since_creation'] = df_test_complete.apply(get_hours_since_creation, axis=1)\n",
    "bid_count_list_test = df_test_complete.building_id.value_counts()\n",
    "df_test_complete['total_listings'] = df_test_complete.apply(get_listing_bid_test, axis=1)\n",
    "df_test_complete['total_photos'] = df_test_complete.apply(get_total_photos, axis=1)\n",
    "managerid_count_list_test = df_test_complete.manager_id.value_counts()\n",
    "df_test_complete['listing_by_manager'] = df_test_complete.apply(get_listing_count_bymanagerid_test, axis=1)\n",
    "df_test_complete['address_similarity'] = df_test_complete.apply(edit_distance, axis=1)\n",
    "df_test_complete['latitude'] = df_test_complete['latitude'].apply(lambda x : round(x,3))\n",
    "df_test_complete['longitude'] = df_test_complete['longitude'].apply(lambda x : round(x,3))\n",
    "df_test_complete['log_price'] = np.log(df_test_complete['price'])\n",
    "df_test_complete['price_per_bedroom'] = df_test_complete['price']/df_test_complete['bedrooms']\n",
    "df_test_complete['bed_bath_total'] = df_test_complete['bedrooms'] + df_test_complete['bathrooms']\n",
    "df_test_complete['price_per_room'] = df_test_complete['price']/df_test_complete['bed_bath_total']\n",
    "df_test_complete['words_in_description'] = df_test_complete['description'].apply(lambda x: len(str(x).split(' ')))\n",
    "df_test_complete['pos'] = df_test_complete.longitude.astype(str) + '_' + df_test_complete.latitude.astype(str)\n",
    "df_test_complete['house_density'] = df_test_complete['pos'].apply(lambda x: pos_dict.get(x, pos_vals.min()))\n",
    "df_test_complete['features'] = df_test_complete[\"features\"].apply(lambda x: \" \".join([\"_\".join(i.split(\" \")) for i in x]))\n",
    "df_test_complete['created'] = pd.to_datetime(df_test_complete['created'])\n",
    "df_test_complete['created_year'] = df_test_complete['created'].dt.year\n",
    "df_test_complete['created_month'] = df_test_complete['created'].dt.month\n",
    "df_test_complete['created_day'] = df_test_complete['created'].dt.day\n",
    "df_test_complete['created_hour'] = df_test_complete['created'].dt.hour\n",
    "lbl = preprocessing.LabelEncoder()\n",
    "lbl.fit(list(df_test_complete['manager_id'].values))\n",
    "df_test_complete['manager_id'] = lbl.transform(list(df_test_complete['manager_id'].values))\n",
    "df_test_complete = df_test_complete.merge(temp.reset_index(),how='left', left_on='manager_id', right_on='manager_id')\n",
    "new_manager_ixes = df_test_complete['high_frac'].isnull()\n",
    "df_test_complete.loc[new_manager_ixes,['high_frac','low_frac', 'medium_frac','manager_skill']] = mean_values.values\n",
    "df_test_complete.head()"
   ]
  },
  {
   "cell_type": "code",
   "execution_count": 331,
   "metadata": {
    "collapsed": true
   },
   "outputs": [],
   "source": [
    "df_test_complete['centroid0'] = np.sqrt((kmeans_centroids[0][0] - df_test_complete['latitude'])**2 + (kmeans_centroids[0][1] - df_test_complete['longitude'])**2)\n",
    "df_test_complete['centroid1'] = np.sqrt((kmeans_centroids[1][0] - df_test_complete['latitude'])**2 + (kmeans_centroids[1][1] - df_test_complete['longitude'])**2)\n",
    "df_test_complete['centroid2'] = np.sqrt((kmeans_centroids[2][0] - df_test_complete['latitude'])**2 + (kmeans_centroids[2][1] - df_test_complete['longitude'])**2)\n",
    "df_test_complete['centroid3'] = np.sqrt((kmeans_centroids[3][0] - df_test_complete['latitude'])**2 + (kmeans_centroids[3][1] - df_test_complete['longitude'])**2)\n",
    "df_test_complete['centroid4'] = np.sqrt((kmeans_centroids[4][0] - df_test_complete['latitude'])**2 + (kmeans_centroids[4][1] - df_test_complete['longitude'])**2)\n",
    "df_test_complete['centroid5'] = np.sqrt((kmeans_centroids[5][0] - df_test_complete['latitude'])**2 + (kmeans_centroids[5][1] - df_test_complete['longitude'])**2)\n",
    "df_test_complete['centroid6'] = np.sqrt((kmeans_centroids[6][0] - df_test_complete['latitude'])**2 + (kmeans_centroids[6][1] - df_test_complete['longitude'])**2)\n",
    "df_test_complete['centroid7'] = np.sqrt((kmeans_centroids[7][0] - df_test_complete['latitude'])**2 + (kmeans_centroids[7][1] - df_test_complete['longitude'])**2)\n",
    "df_test_complete['centroid8'] = np.sqrt((kmeans_centroids[8][0] - df_test_complete['latitude'])**2 + (kmeans_centroids[8][1] - df_test_complete['longitude'])**2)\n",
    "df_test_complete['centroid9'] = np.sqrt((kmeans_centroids[9][0] - df_test_complete['latitude'])**2 + (kmeans_centroids[9][1] - df_test_complete['longitude'])**2)\n",
    "\n",
    "df_test_complete = df_test_complete.replace([np.inf, -np.inf], np.nan)\n",
    "df_test_complete = df_test_complete.fillna(0)\n",
    "# df_test_complete = df_test_complete.replace(np.nan, 0)\n",
    "te_sparse = tfidf.transform(df_test_complete[\"features\"])\n",
    "df_test_selectedfeatures = df_test_complete.filter(features_to_use, axis=1)"
   ]
  },
  {
   "cell_type": "code",
   "execution_count": 332,
   "metadata": {
    "collapsed": false
   },
   "outputs": [
    {
     "data": {
      "text/plain": [
       "Index(['bathrooms', 'bedrooms', 'latitude', 'longitude', 'price',\n",
       "       'total_features', 'hours_since_creation', 'created_year',\n",
       "       'created_month', 'created_day', 'created_hour', 'total_listings',\n",
       "       'total_photos', 'listing_by_manager', 'address_similarity', 'log_price',\n",
       "       'price_per_bedroom', 'bed_bath_total', 'price_per_room',\n",
       "       'words_in_description', 'house_density', 'manager_id', 'manager_skill',\n",
       "       'centroid0', 'centroid1', 'centroid2', 'centroid3', 'centroid4',\n",
       "       'centroid5', 'centroid6', 'centroid7', 'centroid8', 'centroid9'],\n",
       "      dtype='object')"
      ]
     },
     "execution_count": 332,
     "metadata": {},
     "output_type": "execute_result"
    }
   ],
   "source": [
    "df_test_selectedfeatures.columns"
   ]
  },
  {
   "cell_type": "code",
   "execution_count": 333,
   "metadata": {
    "collapsed": false
   },
   "outputs": [],
   "source": [
    "X_test_data = sparse.hstack([df_test_selectedfeatures, te_sparse]).tocsr()"
   ]
  },
  {
   "cell_type": "code",
   "execution_count": 334,
   "metadata": {
    "collapsed": false
   },
   "outputs": [
    {
     "data": {
      "text/plain": [
       "<74659x233 sparse matrix of type '<class 'numpy.float64'>'\n",
       "\twith 2838718 stored elements in Compressed Sparse Row format>"
      ]
     },
     "execution_count": 334,
     "metadata": {},
     "output_type": "execute_result"
    }
   ],
   "source": [
    "X_test_data"
   ]
  },
  {
   "cell_type": "markdown",
   "metadata": {},
   "source": [
    "## Prediction on test data set using Random Forst"
   ]
  },
  {
   "cell_type": "code",
   "execution_count": 335,
   "metadata": {
    "collapsed": false
   },
   "outputs": [],
   "source": [
    "Z_test_data = clf1.predict(X_test_data)"
   ]
  },
  {
   "cell_type": "code",
   "execution_count": 336,
   "metadata": {
    "collapsed": false
   },
   "outputs": [],
   "source": [
    "prob_test_cv = clf1.predict_proba(X_test_data)"
   ]
  },
  {
   "cell_type": "code",
   "execution_count": 337,
   "metadata": {
    "collapsed": true
   },
   "outputs": [],
   "source": [
    "out_df = pd.DataFrame(prob_test_cv)\n",
    "out_df.columns = [\"high\", \"medium\", \"low\"]\n",
    "out_df[\"listing_id\"] = df_test_complete.listing_id.values\n",
    "out_df.to_csv(\"output8.csv\", index=False)"
   ]
  },
  {
   "cell_type": "markdown",
   "metadata": {
    "collapsed": true
   },
   "source": [
    "# Prediction using XGBoost"
   ]
  },
  {
   "cell_type": "code",
   "execution_count": 338,
   "metadata": {
    "collapsed": false
   },
   "outputs": [],
   "source": [
    "preds, model = runXGB(X_train_complete, Y_train_complete, X_test_data, num_rounds=2000)"
   ]
  },
  {
   "cell_type": "code",
   "execution_count": 339,
   "metadata": {
    "collapsed": true
   },
   "outputs": [],
   "source": [
    "out_df = pd.DataFrame(preds)\n",
    "out_df.columns = [\"high\", \"medium\", \"low\"]\n",
    "out_df[\"listing_id\"] = df_test_complete.listing_id.values\n",
    "out_df.to_csv(\"output9.csv\", index=False)"
   ]
  },
  {
   "cell_type": "markdown",
   "metadata": {},
   "source": [
    "# Visualization"
   ]
  },
  {
   "cell_type": "code",
   "execution_count": 187,
   "metadata": {
    "collapsed": false
   },
   "outputs": [
    {
     "data": {
      "text/plain": [
       "<matplotlib.text.Text at 0x1a204861630>"
      ]
     },
     "execution_count": 187,
     "metadata": {},
     "output_type": "execute_result"
    }
   ],
   "source": [
    "\n",
    "importance = model.get_fscore()\n",
    "importance = sorted(importance.items(), key=operator.itemgetter(1))\n",
    "df = pd.DataFrame(importance, columns=['feature', 'fscore'])\n",
    "df['fscore'] = df['fscore'] / df['fscore'].sum()\n",
    "df = df[df['fscore'] > 0.01]\n",
    "\n",
    "plt.figure()\n",
    "df.plot()\n",
    "plt.figure(figsize=(50,20))\n",
    "# df.plot(kind='barh', x='feature', y='fscore', legend=False, figsize=(20, 20))\n",
    "p = sns.barplot(x=df['fscore'],y=df['feature'])\n",
    "plt.xticks(fontsize=20)\n",
    "plt.yticks(fontsize=20)\n",
    "plt.xlabel('f-score',fontsize=30)\n",
    "plt.ylabel('feature name', fontsize=30)\n",
    "plt.title('XGBoost Feature Importance', fontsize=30)"
   ]
  },
  {
   "cell_type": "code",
   "execution_count": 188,
   "metadata": {
    "collapsed": false
   },
   "outputs": [
    {
     "data": {
      "text/plain": [
       "<matplotlib.figure.Figure at 0x1a1f5e3c0b8>"
      ]
     },
     "metadata": {},
     "output_type": "display_data"
    },
    {
     "data": {
      "image/png": "[encoded data removed]",
      "text/plain": [
       "<matplotlib.figure.Figure at 0x1a2045b4cf8>"
      ]
     },
     "metadata": {},
     "output_type": "display_data"
    },
    {
     "data": {
      "image/png": "[encoded data removed]",
      "text/plain": [
       "<matplotlib.figure.Figure at 0x1a2045b4630>"
      ]
     },
     "metadata": {},
     "output_type": "display_data"
    }
   ],
   "source": [
    "plt.show()"
   ]
  },
  {
   "cell_type": "code",
   "execution_count": 229,
   "metadata": {
    "collapsed": false
   },
   "outputs": [],
   "source": [
    "df_train_complete = df_train_complete.reset_index()"
   ]
  },
  {
   "cell_type": "code",
   "execution_count": 235,
   "metadata": {
    "collapsed": false
   },
   "outputs": [
    {
     "data": {
      "text/html": [
       "<iframe id=\"igraph\" scrolling=\"no\" style=\"border:none;\" seamless=\"seamless\" src=\"https://plot.ly/~dhavaldoshi24/12.embed\" height=\"525px\" width=\"100%\"></iframe>"
      ],
      "text/plain": [
       "<plotly.tools.PlotlyDisplay object>"
      ]
     },
     "execution_count": 235,
     "metadata": {},
     "output_type": "execute_result"
    }
   ],
   "source": [
    "\n",
    "mapbox_access_token = 'pk.eyJ1IjoiY2hlbHNlYXBsb3RseSIsImEiOiJjaXFqeXVzdDkwMHFrZnRtOGtlMGtwcGs4In0.SLidkdBMEap9POJGIe1eGw'\n",
    "lat_list = []\n",
    "lon_list = []\n",
    "locations_name = []\n",
    "\n",
    "for index in range(len(df_train_complete)):\n",
    "    lat_list.append(df_train_complete['latitude'][index])\n",
    "    lon_list.append(df_train_complete['longitude'][index])\n",
    "    locations_name.append(df_train_complete['street_address'][index])\n",
    "\n",
    "data = Data([\n",
    "    Scattermapbox(\n",
    "        lat=lat_list,\n",
    "        lon=lon_list,\n",
    "        mode='markers',\n",
    "        marker=Marker(\n",
    "            size=10,\n",
    "            color='rgb(155, 240, 225)',\n",
    "            opacity=0.7\n",
    "        ),\n",
    "        text=locations_name,\n",
    "        hoverinfo='text'\n",
    "    ),\n",
    "    Scattermapbox(\n",
    "        lat=lat_list,\n",
    "        lon=lon_list,\n",
    "        mode='markers',\n",
    "        marker=Marker(\n",
    "            size=8,\n",
    "            color='rgb(205, 245, 100)'\n",
    "        ),\n",
    "        hoverinfo='skip'\n",
    "    )]\n",
    ")\n",
    "        \n",
    "layout = Layout(\n",
    "    title='Rent hop listings',\n",
    "    autosize=True,\n",
    "    hovermode='closest',\n",
    "    showlegend=False,\n",
    "    mapbox=dict(\n",
    "        accesstoken=mapbox_access_token,\n",
    "        bearing=0,\n",
    "        center=dict(\n",
    "            lat=42,\n",
    "            lon=-77\n",
    "        ),\n",
    "        pitch=0,\n",
    "        zoom=8,\n",
    "        style='dark'\n",
    "    ),\n",
    ")\n",
    "\n",
    "fig = dict(data=data, layout=layout)\n",
    "py.iplot(fig, filename='Renthop listings')"
   ]
  },
  {
   "cell_type": "code",
   "execution_count": 244,
   "metadata": {
    "collapsed": false
   },
   "outputs": [
    {
     "data": {
      "text/html": [
       "<iframe id=\"igraph\" scrolling=\"no\" style=\"border:none;\" seamless=\"seamless\" src=\"https://plot.ly/~dhavaldoshi24/18.embed\" height=\"525px\" width=\"100%\"></iframe>"
      ],
      "text/plain": [
       "<plotly.tools.PlotlyDisplay object>"
      ]
     },
     "execution_count": 244,
     "metadata": {},
     "output_type": "execute_result"
    }
   ],
   "source": [
    "fig_data_distribution = {\n",
    "    'data': [{'labels': ['High_interest', 'Medium_Interest', 'Low_Interest'],\n",
    "              'values': [distribution[0], distribution[1], distribution[2]],\n",
    "              'type': 'pie'}],\n",
    "    'layout': {'title': 'Distribution of Listing according to 3-Interest Levels'}\n",
    "     }\n",
    "\n",
    "py.iplot(fig_data_distribution)"
   ]
  },
  {
   "cell_type": "code",
   "execution_count": 262,
   "metadata": {
    "collapsed": false
   },
   "outputs": [],
   "source": [
    "### Bathrooms graphs\n",
    "fig = plt.figure(figsize=(12,12))\n",
    "### Number of occurrences\n",
    "sns.countplot(df_train_complete.bathrooms, ax = plt.subplot(221));\n",
    "plt.xlabel('Number of Bathrooms');\n",
    "plt.ylabel('Number of occurrences');\n",
    "### Average number of Bathrooms per Interest Level\n",
    "sns.barplot(x='interest_level', y='bathrooms', data=df_train_complete, order=[2, 1, 0],\n",
    "            ax = plt.subplot(222));\n",
    "plt.xlabel('Interest Level');\n",
    "plt.ylabel('Average Number of Bathrooms');\n",
    "### Average interest for every number of bathrooms\n",
    "sns.pointplot(x=\"bathrooms\", y=\"interest_level\", data=df_train_complete, ax = plt.subplot(212));\n",
    "plt.xlabel('Number of Bathrooms');\n",
    "plt.ylabel('Average Interest');"
   ]
  },
  {
   "cell_type": "code",
   "execution_count": 263,
   "metadata": {
    "collapsed": false
   },
   "outputs": [
    {
     "data": {
      "image/png": "[encoded data removed]",
      "text/plain": [
       "<matplotlib.figure.Figure at 0x1a19e657978>"
      ]
     },
     "metadata": {},
     "output_type": "display_data"
    }
   ],
   "source": [
    "plt.show()"
   ]
  },
  {
   "cell_type": "code",
   "execution_count": 265,
   "metadata": {
    "collapsed": false
   },
   "outputs": [
    {
     "data": {
      "image/png": "[encoded data removed]",
      "text/plain": [
       "<matplotlib.figure.Figure at 0x1a204903c50>"
      ]
     },
     "metadata": {},
     "output_type": "display_data"
    }
   ],
   "source": [
    "fig = plt.figure(figsize=(12,12))\n",
    "### Number of occurrences\n",
    "sns.countplot(df_train_complete.bedrooms, ax = plt.subplot(221));\n",
    "plt.xlabel('Number of Bedroom');\n",
    "plt.ylabel('Number of occurrences');\n",
    "### Average number of Bathrooms per Interest Level\n",
    "sns.barplot(x='interest_level', y='bedrooms', data=df_train_complete, order=[2, 1, 0],\n",
    "            ax = plt.subplot(222));\n",
    "plt.xlabel('Interest Level');\n",
    "plt.ylabel('Average Number of Bathrooms');\n",
    "### Average interest for every number of bathrooms\n",
    "sns.pointplot(x=\"bedrooms\", y=\"interest_level\", data=df_train_complete, ax = plt.subplot(212));\n",
    "plt.xlabel('Number of Bedrooms');\n",
    "plt.ylabel('Average Interest');\n",
    "plt.show()"
   ]
  },
  {
   "cell_type": "code",
   "execution_count": 268,
   "metadata": {
    "collapsed": false
   },
   "outputs": [],
   "source": [
    "### Let's get a list of top 10 managers\n",
    "top10managers = df_train_complete.manager_id.value_counts().nlargest(10).index.tolist()\n",
    "### ...and plot number of different Interest Level rental adverts for each of them\n",
    "fig = plt.figure(figsize=(12,6))\n",
    "ax = sns.countplot(x=\"manager_id\", hue=\"interest_level\",\n",
    "                   data=df_train_complete[df_train_complete.manager_id.isin(top10managers)]);\n",
    "plt.xlabel('Manager');\n",
    "plt.ylabel('Number of advert occurrences');\n",
    "### Manager_ids are too long. Let's remove them\n",
    "plt.tick_params(\n",
    "    axis='x',          # changes apply to the x-axis\n",
    "    which='both',      # both major and minor ticks are affected\n",
    "    bottom='off',      # ticks along the bottom edge are off\n",
    "    top='off',         # ticks along the top edge are off\n",
    "    labelbottom='off');\n",
    "\n",
    "### Adding percents over bars\n",
    "height = [0 if np.isnan(p.get_height()) else p.get_height() for p in ax.patches]\n",
    "ncol = int(len(height)/3)\n",
    "total = [height[i] + height[i + ncol] + height[i + 2*ncol] for i in range(ncol)] * 3\n",
    "for i, p in enumerate(ax.patches):    \n",
    "    ax.text(p.get_x()+p.get_width()/2,\n",
    "            height[i] + 20,\n",
    "            '{:1.0%}'.format(height[i]/total[i]),\n",
    "            ha=\"center\")\n"
   ]
  },
  {
   "cell_type": "code",
   "execution_count": 269,
   "metadata": {
    "collapsed": false
   },
   "outputs": [
    {
     "data": {
      "text/plain": [
       "<matplotlib.figure.Figure at 0x1a190d08fd0>"
      ]
     },
     "metadata": {},
     "output_type": "display_data"
    },
    {
     "data": {
      "image/png": "[encoded data removed]",
      "text/plain": [
       "<matplotlib.figure.Figure at 0x1a204386f28>"
      ]
     },
     "metadata": {},
     "output_type": "display_data"
    }
   ],
   "source": [
    "plt.show()"
   ]
  }
 ],
 "metadata": {
  "anaconda-cloud": {},
  "kernelspec": {
   "display_name": "Python [conda root]",
   "language": "python",
   "name": "conda-root-py"
  },
  "language_info": {
   "codemirror_mode": {
    "name": "ipython",
    "version": 3
   },
   "file_extension": ".py",
   "mimetype": "text/x-python",
   "name": "python",
   "nbconvert_exporter": "python",
   "pygments_lexer": "ipython3",
   "version": "3.5.2"
  }
 },
 "nbformat": 4,
 "nbformat_minor": 1
}
